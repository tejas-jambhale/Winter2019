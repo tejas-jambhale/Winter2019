{
 "cells": [
  {
   "cell_type": "markdown",
   "metadata": {},
   "source": [
    "# WEBTEXT CORPUS"
   ]
  },
  {
   "cell_type": "code",
   "execution_count": 6,
   "metadata": {
    "collapsed": true
   },
   "outputs": [],
   "source": [
    "#Tejas Jambhale\n",
    "from nltk.corpus import webtext\n",
    "p = webtext.fileids()"
   ]
  },
  {
   "cell_type": "code",
   "execution_count": 7,
   "metadata": {},
   "outputs": [
    {
     "data": {
      "text/plain": [
       "['Cookie', 'Manager', ':', '\"', 'Don', \"'\", 't', 'allow', 'sites', 'that']"
      ]
     },
     "execution_count": 7,
     "metadata": {},
     "output_type": "execute_result"
    }
   ],
   "source": [
    "webtext.words(fileids = 'firefox.txt')[:10]"
   ]
  },
  {
   "cell_type": "code",
   "execution_count": 8,
   "metadata": {
    "collapsed": true
   },
   "outputs": [],
   "source": [
    "from nltk.corpus import webtext"
   ]
  },
  {
   "cell_type": "code",
   "execution_count": 9,
   "metadata": {},
   "outputs": [
    {
     "name": "stdout",
     "output_type": "stream",
     "text": [
      "firefox.txt:['Cookie', 'Manager', ':', '\"', 'Don', \"'\", 't', 'allow', 'sites', 'that']\n",
      "grail.txt:['SCENE', '1', ':', '[', 'wind', ']', '[', 'clop', 'clop', 'clop']\n",
      "overheard.txt:['White', 'guy', ':', 'So', ',', 'do', 'you', 'have', 'any', 'plans']\n",
      "pirates.txt:['PIRATES', 'OF', 'THE', 'CARRIBEAN', ':', 'DEAD', 'MAN', \"'\", 'S', 'CHEST']\n",
      "singles.txt:['25', 'SEXY', 'MALE', ',', 'seeks', 'attrac', 'older', 'single', 'lady', ',']\n",
      "wine.txt:['Lovely', 'delicate', ',', 'fragrant', 'Rhone', 'wine', '.', 'Polished', 'leather', 'and']\n"
     ]
    }
   ],
   "source": [
    "for i in range(len(p)):\n",
    "    print(p[i] + \":\" + str(webtext.words(fileids = p[i])[:10]))"
   ]
  },
  {
   "cell_type": "markdown",
   "metadata": {},
   "source": [
    "### AMERICAN NATIONAL CORPUS"
   ]
  },
  {
   "cell_type": "code",
   "execution_count": 10,
   "metadata": {
    "collapsed": true
   },
   "outputs": [],
   "source": [
    "import nltk"
   ]
  },
  {
   "cell_type": "code",
   "execution_count": 11,
   "metadata": {
    "collapsed": true
   },
   "outputs": [],
   "source": [
    "#open ANC tweets text file\n",
    "f = open('tweets1.txt','r')"
   ]
  },
  {
   "cell_type": "code",
   "execution_count": 12,
   "metadata": {
    "collapsed": true
   },
   "outputs": [],
   "source": [
    "text  = f.read()"
   ]
  },
  {
   "cell_type": "code",
   "execution_count": 13,
   "metadata": {
    "collapsed": true
   },
   "outputs": [],
   "source": [
    "text1  = text.split()"
   ]
  },
  {
   "cell_type": "code",
   "execution_count": 14,
   "metadata": {},
   "outputs": [
    {
     "name": "stdout",
     "output_type": "stream",
     "text": [
      "['just', 'setting', 'up', 'my', 'twttr']\n"
     ]
    }
   ],
   "source": [
    "print(text1[:5])"
   ]
  },
  {
   "cell_type": "code",
   "execution_count": 15,
   "metadata": {
    "collapsed": true
   },
   "outputs": [],
   "source": [
    "#converting to text obj\n",
    "text2 = nltk.Text(text1)"
   ]
  },
  {
   "cell_type": "code",
   "execution_count": 16,
   "metadata": {},
   "outputs": [
    {
     "name": "stdout",
     "output_type": "stream",
     "text": [
      "<Text: just setting up my twttr tm help Wondering...>\n"
     ]
    }
   ],
   "source": [
    "print(text2)"
   ]
  },
  {
   "cell_type": "code",
   "execution_count": 17,
   "metadata": {},
   "outputs": [
    {
     "name": "stdout",
     "output_type": "stream",
     "text": [
      "Displaying 17 of 17 matches:\n",
      "n The Signal premiere. Lotsa buyers. Good luck gang listening to the pocast ne\n",
      "so going to enjoy this shower. Feels good to have worked on a trail three time\n",
      "ose not my friend. it was not a very good day so I have a lot to do tomorrow..\n",
      "Oh why cheesecake why? You looked so good evil cake. Now metamucil. Reading: \"\n",
      "utiful day so Im thinking to spend a good part of it outdoors.first stop at St\n",
      "g and ignoring my reaction to a very good friend getting fired. it's like a bi\n",
      "d HDH - url wrist sprain= damn pain. good thing it's not on my left hand. Bein\n",
      " I bet I can throw farther than her. Good luck with that dude. Sure it will al\n",
      " Choppers. first day of eid .. feels good Looking to buy a game called Shut th\n",
      "g. back from the ASLA 6 Congress. :) Good job ASLA CORE! I'm gonna need to ste\n",
      "tching the CNBC video of David Lear. Good job Sean! and now... off to Belize! \n",
      " Mom's cousin's car. this would be a good place for wifi! a hot technology to \n",
      "e Long Tail: Are dead-tree magazines good or bad for the climate? url the mida\n",
      "ortened! url www.last.fm is a really good idea Worst drive I've ever had. Sanj\n",
      " my tivoed shows I missed last week. Good day from fratres this 01.22.08! Ther\n",
      "ill have cause for regret. 01..24.08 Good Day!!! See Pope Benedict's plea for \n",
      ".. , @cleshen, everything went well. Good people! Probably have to go back to \n"
     ]
    }
   ],
   "source": [
    "#concordance search\n",
    "text2.concordance(\"good\")"
   ]
  },
  {
   "cell_type": "code",
   "execution_count": 18,
   "metadata": {
    "collapsed": true
   },
   "outputs": [],
   "source": [
    "#loading corpus from web\n",
    "from urllib import request"
   ]
  },
  {
   "cell_type": "code",
   "execution_count": 19,
   "metadata": {
    "collapsed": true
   },
   "outputs": [],
   "source": [
    "url  = \"http://www.gutenberg.org/files/2554/2554-0.txt\""
   ]
  },
  {
   "cell_type": "code",
   "execution_count": 20,
   "metadata": {
    "collapsed": true
   },
   "outputs": [],
   "source": [
    "response  = request.urlopen(url)"
   ]
  },
  {
   "cell_type": "code",
   "execution_count": 21,
   "metadata": {
    "collapsed": true
   },
   "outputs": [],
   "source": [
    "raw = response.read().decode('utf-8')"
   ]
  },
  {
   "cell_type": "code",
   "execution_count": 22,
   "metadata": {},
   "outputs": [
    {
     "data": {
      "text/plain": [
       "str"
      ]
     },
     "execution_count": 22,
     "metadata": {},
     "output_type": "execute_result"
    }
   ],
   "source": [
    "type(raw)"
   ]
  },
  {
   "cell_type": "code",
   "execution_count": 23,
   "metadata": {},
   "outputs": [
    {
     "data": {
      "text/plain": [
       "1176967"
      ]
     },
     "execution_count": 23,
     "metadata": {},
     "output_type": "execute_result"
    }
   ],
   "source": [
    "len(raw)"
   ]
  },
  {
   "cell_type": "code",
   "execution_count": 24,
   "metadata": {},
   "outputs": [
    {
     "data": {
      "text/plain": [
       "'\\ufeffThe Project Gutenberg EBook of Crime and Punishment, by Fyodor Dostoevsky\\r'"
      ]
     },
     "execution_count": 24,
     "metadata": {},
     "output_type": "execute_result"
    }
   ],
   "source": [
    "raw[:75]"
   ]
  },
  {
   "cell_type": "code",
   "execution_count": 25,
   "metadata": {
    "collapsed": true
   },
   "outputs": [],
   "source": [
    "from nltk.tokenize import word_tokenize"
   ]
  },
  {
   "cell_type": "code",
   "execution_count": 26,
   "metadata": {
    "collapsed": true
   },
   "outputs": [],
   "source": [
    "tokens = word_tokenize(raw)"
   ]
  },
  {
   "cell_type": "code",
   "execution_count": 27,
   "metadata": {},
   "outputs": [
    {
     "data": {
      "text/plain": [
       "list"
      ]
     },
     "execution_count": 27,
     "metadata": {},
     "output_type": "execute_result"
    }
   ],
   "source": [
    "type(tokens)"
   ]
  },
  {
   "cell_type": "code",
   "execution_count": 28,
   "metadata": {},
   "outputs": [
    {
     "data": {
      "text/plain": [
       "257727"
      ]
     },
     "execution_count": 28,
     "metadata": {},
     "output_type": "execute_result"
    }
   ],
   "source": [
    "len(tokens)"
   ]
  },
  {
   "cell_type": "code",
   "execution_count": null,
   "metadata": {
    "collapsed": true
   },
   "outputs": [],
   "source": []
  }
 ],
 "metadata": {
  "kernelspec": {
   "display_name": "Python 3",
   "language": "python",
   "name": "python3"
  },
  "language_info": {
   "codemirror_mode": {
    "name": "ipython",
    "version": 3
   },
   "file_extension": ".py",
   "mimetype": "text/x-python",
   "name": "python",
   "nbconvert_exporter": "python",
   "pygments_lexer": "ipython3",
   "version": "3.6.1"
  }
 },
 "nbformat": 4,
 "nbformat_minor": 4
}
