{
 "cells": [
  {
   "cell_type": "code",
   "execution_count": 2,
   "metadata": {},
   "outputs": [
    {
     "data": {
      "text/plain": [
       "'happi'"
      ]
     },
     "execution_count": 2,
     "metadata": {},
     "output_type": "execute_result"
    }
   ],
   "source": [
    "#Tejas Jambhale\n",
    "import nltk\n",
    "from nltk.stem import PorterStemmer\n",
    "stemmerporter=PorterStemmer()\n",
    "stemmerporter.stem('happiness')"
   ]
  },
  {
   "cell_type": "code",
   "execution_count": 3,
   "metadata": {},
   "outputs": [
    {
     "data": {
      "text/plain": [
       "'sing'"
      ]
     },
     "execution_count": 3,
     "metadata": {},
     "output_type": "execute_result"
    }
   ],
   "source": [
    "stemmerporter.stem('sing')"
   ]
  },
  {
   "cell_type": "code",
   "execution_count": 4,
   "metadata": {},
   "outputs": [
    {
     "data": {
      "text/plain": [
       "'gather'"
      ]
     },
     "execution_count": 4,
     "metadata": {},
     "output_type": "execute_result"
    }
   ],
   "source": [
    "stemmerporter.stem('gathering')"
   ]
  },
  {
   "cell_type": "code",
   "execution_count": 5,
   "metadata": {},
   "outputs": [
    {
     "data": {
      "text/plain": [
       "'debug'"
      ]
     },
     "execution_count": 5,
     "metadata": {},
     "output_type": "execute_result"
    }
   ],
   "source": [
    "stemmerporter.stem('debugging')"
   ]
  },
  {
   "cell_type": "code",
   "execution_count": 6,
   "metadata": {},
   "outputs": [
    {
     "data": {
      "text/plain": [
       "'happi'"
      ]
     },
     "execution_count": 6,
     "metadata": {},
     "output_type": "execute_result"
    }
   ],
   "source": [
    "from nltk.stem import SnowballStemmer\n",
    "snowballstemmer=SnowballStemmer('english')\n",
    "snowballstemmer.stem('happiness')"
   ]
  },
  {
   "cell_type": "code",
   "execution_count": 7,
   "metadata": {},
   "outputs": [
    {
     "data": {
      "text/plain": [
       "'debug'"
      ]
     },
     "execution_count": 7,
     "metadata": {},
     "output_type": "execute_result"
    }
   ],
   "source": [
    "snowballstemmer.stem('debugging')"
   ]
  },
  {
   "cell_type": "code",
   "execution_count": 8,
   "metadata": {},
   "outputs": [
    {
     "data": {
      "text/plain": [
       "'corpus'"
      ]
     },
     "execution_count": 8,
     "metadata": {},
     "output_type": "execute_result"
    }
   ],
   "source": [
    "from nltk.stem import WordNetLemmatizer\n",
    "lemmatizier=WordNetLemmatizer()\n",
    "lemmatizier.lemmatize('corpora')"
   ]
  },
  {
   "cell_type": "code",
   "execution_count": 9,
   "metadata": {},
   "outputs": [
    {
     "data": {
      "text/plain": [
       "'cactus'"
      ]
     },
     "execution_count": 9,
     "metadata": {},
     "output_type": "execute_result"
    }
   ],
   "source": [
    "lemmatizier.lemmatize('cacti')"
   ]
  },
  {
   "cell_type": "code",
   "execution_count": 10,
   "metadata": {},
   "outputs": [
    {
     "data": {
      "text/plain": [
       "'good'"
      ]
     },
     "execution_count": 10,
     "metadata": {},
     "output_type": "execute_result"
    }
   ],
   "source": [
    "lemmatizier.lemmatize(\"better\",pos='a')"
   ]
  },
  {
   "cell_type": "code",
   "execution_count": 11,
   "metadata": {},
   "outputs": [
    {
     "data": {
      "text/plain": [
       "'be'"
      ]
     },
     "execution_count": 11,
     "metadata": {},
     "output_type": "execute_result"
    }
   ],
   "source": [
    "lemmatizier.lemmatize(\"am\",pos='v')"
   ]
  },
  {
   "cell_type": "code",
   "execution_count": 12,
   "metadata": {
    "collapsed": true
   },
   "outputs": [],
   "source": [
    "para='''Multilingual corpora that have been specially formatted for side-by-side comparison are called aligned parallel corpora. There are two main types of parallel corpora which contain texts in two languages. In a translation corpus, the texts in one language are translations of texts in the other language. In a comparable corpus, the texts are of the same kind and cover the same content, but they are not translations of each other.[1] To exploit a parallel text, some kind of text alignment identifying equivalent text segments (phrases or sentences) is a prerequisite for analysis. Machine translation algorithms for translating between two languages are often trained using parallel fragments comprising a first language corpus and a second language corpus which is an element-for-element translation of the first language corpus.[2]'''"
   ]
  },
  {
   "cell_type": "code",
   "execution_count": 13,
   "metadata": {
    "collapsed": true
   },
   "outputs": [],
   "source": [
    "stems=[stemmerporter.stem(x) for x in para.split(\" \")]"
   ]
  },
  {
   "cell_type": "code",
   "execution_count": 14,
   "metadata": {
    "scrolled": true
   },
   "outputs": [
    {
     "data": {
      "text/plain": [
       "['multilingu',\n",
       " 'corpora',\n",
       " 'that',\n",
       " 'have',\n",
       " 'been',\n",
       " 'special',\n",
       " 'format',\n",
       " 'for',\n",
       " 'side-by-sid',\n",
       " 'comparison',\n",
       " 'are',\n",
       " 'call',\n",
       " 'align',\n",
       " 'parallel',\n",
       " 'corpora.',\n",
       " 'there',\n",
       " 'are',\n",
       " 'two',\n",
       " 'main',\n",
       " 'type',\n",
       " 'of',\n",
       " 'parallel',\n",
       " 'corpora',\n",
       " 'which',\n",
       " 'contain',\n",
       " 'text',\n",
       " 'in',\n",
       " 'two',\n",
       " 'languages.',\n",
       " 'In',\n",
       " 'a',\n",
       " 'translat',\n",
       " 'corpus,',\n",
       " 'the',\n",
       " 'text',\n",
       " 'in',\n",
       " 'one',\n",
       " 'languag',\n",
       " 'are',\n",
       " 'translat',\n",
       " 'of',\n",
       " 'text',\n",
       " 'in',\n",
       " 'the',\n",
       " 'other',\n",
       " 'language.',\n",
       " 'In',\n",
       " 'a',\n",
       " 'compar',\n",
       " 'corpus,',\n",
       " 'the',\n",
       " 'text',\n",
       " 'are',\n",
       " 'of',\n",
       " 'the',\n",
       " 'same',\n",
       " 'kind',\n",
       " 'and',\n",
       " 'cover',\n",
       " 'the',\n",
       " 'same',\n",
       " 'content,',\n",
       " 'but',\n",
       " 'they',\n",
       " 'are',\n",
       " 'not',\n",
       " 'translat',\n",
       " 'of',\n",
       " 'each',\n",
       " 'other.[1]',\n",
       " 'To',\n",
       " 'exploit',\n",
       " 'a',\n",
       " 'parallel',\n",
       " 'text,',\n",
       " 'some',\n",
       " 'kind',\n",
       " 'of',\n",
       " 'text',\n",
       " 'align',\n",
       " 'identifi',\n",
       " 'equival',\n",
       " 'text',\n",
       " 'segment',\n",
       " '(phrase',\n",
       " 'or',\n",
       " 'sentences)',\n",
       " 'is',\n",
       " 'a',\n",
       " 'prerequisit',\n",
       " 'for',\n",
       " 'analysis.',\n",
       " 'machin',\n",
       " 'translat',\n",
       " 'algorithm',\n",
       " 'for',\n",
       " 'translat',\n",
       " 'between',\n",
       " 'two',\n",
       " 'languag',\n",
       " 'are',\n",
       " 'often',\n",
       " 'train',\n",
       " 'use',\n",
       " 'parallel',\n",
       " 'fragment',\n",
       " 'compris',\n",
       " 'a',\n",
       " 'first',\n",
       " 'languag',\n",
       " 'corpu',\n",
       " 'and',\n",
       " 'a',\n",
       " 'second',\n",
       " 'languag',\n",
       " 'corpu',\n",
       " 'which',\n",
       " 'is',\n",
       " 'an',\n",
       " 'element-for-el',\n",
       " 'translat',\n",
       " 'of',\n",
       " 'the',\n",
       " 'first',\n",
       " 'languag',\n",
       " 'corpus.[2]']"
      ]
     },
     "execution_count": 14,
     "metadata": {},
     "output_type": "execute_result"
    }
   ],
   "source": [
    "stems"
   ]
  },
  {
   "cell_type": "code",
   "execution_count": 15,
   "metadata": {
    "collapsed": true
   },
   "outputs": [],
   "source": [
    "lemma=[lemmatizier.lemmatize(x) for x in para.split(\" \")]"
   ]
  },
  {
   "cell_type": "code",
   "execution_count": 16,
   "metadata": {},
   "outputs": [
    {
     "data": {
      "text/plain": [
       "['Multilingual',\n",
       " 'corpus',\n",
       " 'that',\n",
       " 'have',\n",
       " 'been',\n",
       " 'specially',\n",
       " 'formatted',\n",
       " 'for',\n",
       " 'side-by-side',\n",
       " 'comparison',\n",
       " 'are',\n",
       " 'called',\n",
       " 'aligned',\n",
       " 'parallel',\n",
       " 'corpora.',\n",
       " 'There',\n",
       " 'are',\n",
       " 'two',\n",
       " 'main',\n",
       " 'type',\n",
       " 'of',\n",
       " 'parallel',\n",
       " 'corpus',\n",
       " 'which',\n",
       " 'contain',\n",
       " 'text',\n",
       " 'in',\n",
       " 'two',\n",
       " 'languages.',\n",
       " 'In',\n",
       " 'a',\n",
       " 'translation',\n",
       " 'corpus,',\n",
       " 'the',\n",
       " 'text',\n",
       " 'in',\n",
       " 'one',\n",
       " 'language',\n",
       " 'are',\n",
       " 'translation',\n",
       " 'of',\n",
       " 'text',\n",
       " 'in',\n",
       " 'the',\n",
       " 'other',\n",
       " 'language.',\n",
       " 'In',\n",
       " 'a',\n",
       " 'comparable',\n",
       " 'corpus,',\n",
       " 'the',\n",
       " 'text',\n",
       " 'are',\n",
       " 'of',\n",
       " 'the',\n",
       " 'same',\n",
       " 'kind',\n",
       " 'and',\n",
       " 'cover',\n",
       " 'the',\n",
       " 'same',\n",
       " 'content,',\n",
       " 'but',\n",
       " 'they',\n",
       " 'are',\n",
       " 'not',\n",
       " 'translation',\n",
       " 'of',\n",
       " 'each',\n",
       " 'other.[1]',\n",
       " 'To',\n",
       " 'exploit',\n",
       " 'a',\n",
       " 'parallel',\n",
       " 'text,',\n",
       " 'some',\n",
       " 'kind',\n",
       " 'of',\n",
       " 'text',\n",
       " 'alignment',\n",
       " 'identifying',\n",
       " 'equivalent',\n",
       " 'text',\n",
       " 'segment',\n",
       " '(phrases',\n",
       " 'or',\n",
       " 'sentences)',\n",
       " 'is',\n",
       " 'a',\n",
       " 'prerequisite',\n",
       " 'for',\n",
       " 'analysis.',\n",
       " 'Machine',\n",
       " 'translation',\n",
       " 'algorithm',\n",
       " 'for',\n",
       " 'translating',\n",
       " 'between',\n",
       " 'two',\n",
       " 'language',\n",
       " 'are',\n",
       " 'often',\n",
       " 'trained',\n",
       " 'using',\n",
       " 'parallel',\n",
       " 'fragment',\n",
       " 'comprising',\n",
       " 'a',\n",
       " 'first',\n",
       " 'language',\n",
       " 'corpus',\n",
       " 'and',\n",
       " 'a',\n",
       " 'second',\n",
       " 'language',\n",
       " 'corpus',\n",
       " 'which',\n",
       " 'is',\n",
       " 'an',\n",
       " 'element-for-element',\n",
       " 'translation',\n",
       " 'of',\n",
       " 'the',\n",
       " 'first',\n",
       " 'language',\n",
       " 'corpus.[2]']"
      ]
     },
     "execution_count": 16,
     "metadata": {},
     "output_type": "execute_result"
    }
   ],
   "source": [
    "lemma"
   ]
  },
  {
   "cell_type": "code",
   "execution_count": 17,
   "metadata": {
    "collapsed": true
   },
   "outputs": [],
   "source": [
    "from sklearn.feature_extraction.text import  CountVectorizer\n",
    "vectorizer = CountVectorizer()"
   ]
  },
  {
   "cell_type": "code",
   "execution_count": 18,
   "metadata": {},
   "outputs": [
    {
     "name": "stdout",
     "output_type": "stream",
     "text": [
      "['algorithm', 'aligned', 'alignment', 'an', 'analysis', 'and', 'are', 'been', 'between', 'but', 'by', 'called', 'comparable', 'comparison', 'comprising', 'contain', 'content', 'corpora', 'corpus', 'cover', 'each', 'element', 'equivalent', 'exploit', 'first', 'for', 'formatted', 'fragment', 'have', 'identifying', 'in', 'is', 'kind', 'language', 'languages', 'machine', 'main', 'multilingual', 'not', 'of', 'often', 'one', 'or', 'other', 'parallel', 'phrases', 'prerequisite', 'same', 'second', 'segment', 'sentences', 'side', 'some', 'specially', 'text', 'that', 'the', 'there', 'they', 'to', 'trained', 'translating', 'translation', 'two', 'type', 'using', 'which']\n"
     ]
    }
   ],
   "source": [
    "x = vectorizer.fit_transform(lemma)\n",
    "print(vectorizer.get_feature_names())"
   ]
  },
  {
   "cell_type": "code",
   "execution_count": 19,
   "metadata": {},
   "outputs": [
    {
     "name": "stdout",
     "output_type": "stream",
     "text": [
      "A quick brown fox jump over a lazi dog\n"
     ]
    }
   ],
   "source": [
    "from nltk.stem import PorterStemmer\n",
    "stemmer = PorterStemmer()\n",
    "example = \"A quick brown fox jumps over a lazy dog\"\n",
    "example = [stemmer.stem(token) for token in example.split(\" \")]\n",
    "print(\" \".join(example))"
   ]
  },
  {
   "cell_type": "code",
   "execution_count": 20,
   "metadata": {},
   "outputs": [
    {
     "name": "stdout",
     "output_type": "stream",
     "text": [
      "A quick brown fox jump over a lazi dog\n"
     ]
    }
   ],
   "source": [
    "from nltk.stem import WordNetLemmatizer\n",
    "lemma = WordNetLemmatizer()\n",
    "example1 = \"A quick brown fox jumps over a lazy dog\"\n",
    "example1 = [stemmer.stem(token) for token in example1.split(\" \")]\n",
    "print(\" \".join(example1))"
   ]
  },
  {
   "cell_type": "code",
   "execution_count": 21,
   "metadata": {},
   "outputs": [
    {
     "name": "stdout",
     "output_type": "stream",
     "text": [
      "['document', 'first', 'is', 'next', 'the', 'third', 'this']\n",
      "[[1 1 1 0 1 0 1]\n",
      " [1 0 0 1 0 0 0]\n",
      " [1 0 0 0 0 1 0]\n",
      " [1 1 1 0 1 0 1]]\n"
     ]
    }
   ],
   "source": [
    "from sklearn.feature_extraction.text import CountVectorizer\n",
    "corpus = ['This is the first document.','Next document.', 'third document.',\n",
    "'Is this the first document?']\n",
    "vectorizer = CountVectorizer()\n",
    "X = vectorizer.fit_transform(corpus)\n",
    "print(vectorizer.get_feature_names())\n",
    "print(X.toarray())\n"
   ]
  },
  {
   "cell_type": "code",
   "execution_count": null,
   "metadata": {
    "collapsed": true
   },
   "outputs": [],
   "source": []
  }
 ],
 "metadata": {
  "kernelspec": {
   "display_name": "Python 3",
   "language": "python",
   "name": "python3"
  },
  "language_info": {
   "codemirror_mode": {
    "name": "ipython",
    "version": 3
   },
   "file_extension": ".py",
   "mimetype": "text/x-python",
   "name": "python",
   "nbconvert_exporter": "python",
   "pygments_lexer": "ipython3",
   "version": "3.6.1"
  }
 },
 "nbformat": 4,
 "nbformat_minor": 2
}
