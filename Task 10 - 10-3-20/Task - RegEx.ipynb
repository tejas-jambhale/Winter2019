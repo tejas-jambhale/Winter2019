{
 "cells": [
  {
   "cell_type": "code",
   "execution_count": 6,
   "metadata": {},
   "outputs": [],
   "source": [
    "#Tejas Jambhale \n",
    "import nltk"
   ]
  },
  {
   "cell_type": "code",
   "execution_count": 8,
   "metadata": {},
   "outputs": [
    {
     "name": "stdout",
     "output_type": "stream",
     "text": [
      "[('Separate', 'JJ'), ('words', 'NNS'), ('into', 'IN'), ('individual', 'JJ'), ('morphemes', 'NNS'), ('and', 'CC'), ('identify', 'VB'), ('the', 'DT'), ('class', 'NN'), ('of', 'IN'), ('the', 'DT'), ('morphemes', 'NNS'), ('.', '.'), ('The', 'DT'), ('difficulty', 'NN'), ('of', 'IN'), ('this', 'DT'), ('task', 'NN'), ('depends', 'VBZ'), ('greatly', 'RB'), ('on', 'IN'), ('the', 'DT'), ('complexity', 'NN'), ('of', 'IN'), ('the', 'DT'), ('morphology', 'NN'), ('(', '('), ('i.e.', 'FW'), (',', ','), ('the', 'DT'), ('structure', 'NN'), ('of', 'IN'), ('words', 'NNS'), (')', ')'), ('of', 'IN'), ('the', 'DT'), ('language', 'NN'), ('being', 'VBG'), ('considered', 'VBN'), ('.', '.'), ('English', 'NNP'), ('has', 'VBZ'), ('fairly', 'RB'), ('simple', 'JJ'), ('morphology', 'NN'), (',', ','), ('especially', 'RB'), ('inflectional', 'JJ'), ('morphology', 'NN'), (',', ','), ('and', 'CC'), ('thus', 'RB'), ('it', 'PRP'), ('is', 'VBZ'), ('often', 'RB'), ('possible', 'JJ'), ('to', 'TO'), ('ignore', 'VB'), ('this', 'DT'), ('task', 'NN'), ('entirely', 'RB'), ('and', 'CC'), ('simply', 'RB'), ('model', 'VB'), ('all', 'DT'), ('possible', 'JJ'), ('forms', 'NNS'), ('of', 'IN'), ('a', 'DT'), ('word', 'NN'), ('(', '('), ('e.g.open', 'JJ'), (',', ','), ('opens', 'VBZ'), (',', ','), ('opened', 'VBD'), (',', ','), ('opening', 'VBG'), (')', ')'), ('as', 'IN'), ('separate', 'JJ'), ('words', 'NNS'), ('.', '.'), ('In', 'IN'), ('languages', 'NNS'), ('such', 'JJ'), ('as', 'IN'), ('Turkish', 'JJ'), ('or', 'CC'), ('Meitei', 'NNP'), (',', ','), ('[', 'VBD'), ('14', 'CD'), (']', 'FW'), ('a', 'DT'), ('highly', 'RB'), ('agglutinated', 'JJ'), ('Indian', 'JJ'), ('language', 'NN'), (',', ','), ('however', 'RB'), (',', ','), ('such', 'PDT'), ('an', 'DT'), ('approach', 'NN'), ('is', 'VBZ'), ('not', 'RB'), ('possible', 'JJ'), (',', ','), ('as', 'IN'), ('each', 'DT'), ('dictionary', 'JJ'), ('entry', 'NN'), ('has', 'VBZ'), ('thousands', 'NNS'), ('of', 'IN'), ('possible', 'JJ'), ('word', 'NN'), ('form', 'NN')]\n",
      "[('The', 'DT'), ('following', 'NN'), ('is', 'VBZ'), ('a', 'DT'), ('list', 'NN'), ('of', 'IN'), ('some', 'DT'), ('of', 'IN'), ('the', 'DT'), ('most', 'RBS'), ('commonly', 'RB'), ('researched', 'JJ'), ('tasks', 'NNS'), ('in', 'IN'), ('natural', 'JJ'), ('language', 'NN'), ('processing', 'NN'), ('.', '.'), ('Some', 'DT'), ('of', 'IN'), ('these', 'DT'), ('tasks', 'NNS'), ('have', 'VBP'), ('direct', 'JJ'), ('real-world', 'NN'), ('applications', 'NNS'), (',', ','), ('while', 'IN'), ('others', 'NNS'), ('more', 'RBR'), ('commonly', 'RB'), ('serve', 'VBP'), ('as', 'IN'), ('subtasks', 'NNS'), ('that', 'WDT'), ('are', 'VBP'), ('used', 'VBN'), ('to', 'TO'), ('aid', 'VB'), ('in', 'IN'), ('solving', 'VBG'), ('larger', 'JJR'), ('tasks', 'NNS'), ('.', '.'), ('Though', 'IN'), ('natural', 'JJ'), ('language', 'NN'), ('processing', 'NN'), ('tasks', 'NNS'), ('are', 'VBP'), ('closely', 'RB'), ('intertwined', 'VBN'), (',', ','), ('they', 'PRP'), ('are', 'VBP'), ('frequently', 'RB'), ('subdivided', 'VBN'), ('into', 'IN'), ('categories', 'NNS'), ('for', 'IN'), ('convenience', 'NN'), ('.', '.'), ('A', 'DT'), ('coarse', 'JJ'), ('division', 'NN'), ('is', 'VBZ'), ('given', 'VBN'), ('below', 'IN'), ('.', '.')]\n"
     ]
    }
   ],
   "source": [
    "s1 = nltk.word_tokenize(\"Separate words into individual morphemes and identify the class of the morphemes. The difficulty of this task depends greatly on the complexity of the morphology (i.e., the structure of words) of the language being considered. English has fairly simple morphology, especially inflectional morphology, and thus it is often possible to ignore this task entirely and simply model all possible forms of a word (e.g.open, opens, opened, opening) as separate words. In languages such as Turkish or Meitei,[14] a highly agglutinated Indian language, however, such an approach is not possible, as each dictionary entry has thousands of possible word form\")\n",
    "print(nltk.pos_tag(s1))\n",
    "ps1 = nltk.pos_tag(s1)\n",
    "s2 = nltk.word_tokenize(\"\"\"The following is a list of some of the most commonly researched tasks in natural language processing. Some of these tasks have direct real-world applications, while others more commonly serve as subtasks that are used to aid in solving larger tasks.\n",
    "\n",
    "Though natural language processing tasks are closely intertwined, they are frequently subdivided into categories for convenience. A coarse division is given below.\"\"\")\n",
    "print(nltk.pos_tag(s2))\n",
    "ps2 = nltk.pos_tag(s2)"
   ]
  },
  {
   "cell_type": "code",
   "execution_count": null,
   "metadata": {},
   "outputs": [],
   "source": [
    "regexp = \"NP: {<DT>?<JJ>*<NN.*>}\"\n",
    "parser = nltk.RegexpParser(regexp)  #search for specific pattern\n",
    "chunk = parser.parse(ps1) \n",
    "print(chunk)"
   ]
  },
  {
   "cell_type": "code",
   "execution_count": null,
   "metadata": {},
   "outputs": [],
   "source": [
    "chunk = parser.parse(ps2)\n",
    "print(chunk)"
   ]
  },
  {
   "cell_type": "code",
   "execution_count": null,
   "metadata": {
    "collapsed": true
   },
   "outputs": [],
   "source": []
  }
 ],
 "metadata": {
  "kernelspec": {
   "display_name": "Python 3",
   "language": "python",
   "name": "python3"
  },
  "language_info": {
   "codemirror_mode": {
    "name": "ipython",
    "version": 3
   },
   "file_extension": ".py",
   "mimetype": "text/x-python",
   "name": "python",
   "nbconvert_exporter": "python",
   "pygments_lexer": "ipython3",
   "version": "3.6.1"
  }
 },
 "nbformat": 4,
 "nbformat_minor": 2
}
