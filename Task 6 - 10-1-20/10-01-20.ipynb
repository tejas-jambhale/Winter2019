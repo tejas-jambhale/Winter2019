{
 "cells": [
  {
   "cell_type": "code",
   "execution_count": 24,
   "metadata": {},
   "outputs": [
    {
     "data": {
      "text/plain": [
       "['i',\n",
       " 'me',\n",
       " 'my',\n",
       " 'myself',\n",
       " 'we',\n",
       " 'our',\n",
       " 'ours',\n",
       " 'ourselves',\n",
       " 'you',\n",
       " \"you're\",\n",
       " \"you've\",\n",
       " \"you'll\",\n",
       " \"you'd\",\n",
       " 'your',\n",
       " 'yours',\n",
       " 'yourself',\n",
       " 'yourselves',\n",
       " 'he',\n",
       " 'him',\n",
       " 'his',\n",
       " 'himself',\n",
       " 'she',\n",
       " \"she's\",\n",
       " 'her',\n",
       " 'hers',\n",
       " 'herself',\n",
       " 'it',\n",
       " \"it's\",\n",
       " 'its',\n",
       " 'itself',\n",
       " 'they',\n",
       " 'them',\n",
       " 'their',\n",
       " 'theirs',\n",
       " 'themselves',\n",
       " 'what',\n",
       " 'which',\n",
       " 'who',\n",
       " 'whom',\n",
       " 'this',\n",
       " 'that',\n",
       " \"that'll\",\n",
       " 'these',\n",
       " 'those',\n",
       " 'am',\n",
       " 'is',\n",
       " 'are',\n",
       " 'was',\n",
       " 'were',\n",
       " 'be',\n",
       " 'been',\n",
       " 'being',\n",
       " 'have',\n",
       " 'has',\n",
       " 'had',\n",
       " 'having',\n",
       " 'do',\n",
       " 'does',\n",
       " 'did',\n",
       " 'doing',\n",
       " 'a',\n",
       " 'an',\n",
       " 'the',\n",
       " 'and',\n",
       " 'but',\n",
       " 'if',\n",
       " 'or',\n",
       " 'because',\n",
       " 'as',\n",
       " 'until',\n",
       " 'while',\n",
       " 'of',\n",
       " 'at',\n",
       " 'by',\n",
       " 'for',\n",
       " 'with',\n",
       " 'about',\n",
       " 'against',\n",
       " 'between',\n",
       " 'into',\n",
       " 'through',\n",
       " 'during',\n",
       " 'before',\n",
       " 'after',\n",
       " 'above',\n",
       " 'below',\n",
       " 'to',\n",
       " 'from',\n",
       " 'up',\n",
       " 'down',\n",
       " 'in',\n",
       " 'out',\n",
       " 'on',\n",
       " 'off',\n",
       " 'over',\n",
       " 'under',\n",
       " 'again',\n",
       " 'further',\n",
       " 'then',\n",
       " 'once',\n",
       " 'here',\n",
       " 'there',\n",
       " 'when',\n",
       " 'where',\n",
       " 'why',\n",
       " 'how',\n",
       " 'all',\n",
       " 'any',\n",
       " 'both',\n",
       " 'each',\n",
       " 'few',\n",
       " 'more',\n",
       " 'most',\n",
       " 'other',\n",
       " 'some',\n",
       " 'such',\n",
       " 'no',\n",
       " 'nor',\n",
       " 'not',\n",
       " 'only',\n",
       " 'own',\n",
       " 'same',\n",
       " 'so',\n",
       " 'than',\n",
       " 'too',\n",
       " 'very',\n",
       " 's',\n",
       " 't',\n",
       " 'can',\n",
       " 'will',\n",
       " 'just',\n",
       " 'don',\n",
       " \"don't\",\n",
       " 'should',\n",
       " \"should've\",\n",
       " 'now',\n",
       " 'd',\n",
       " 'll',\n",
       " 'm',\n",
       " 'o',\n",
       " 're',\n",
       " 've',\n",
       " 'y',\n",
       " 'ain',\n",
       " 'aren',\n",
       " \"aren't\",\n",
       " 'couldn',\n",
       " \"couldn't\",\n",
       " 'didn',\n",
       " \"didn't\",\n",
       " 'doesn',\n",
       " \"doesn't\",\n",
       " 'hadn',\n",
       " \"hadn't\",\n",
       " 'hasn',\n",
       " \"hasn't\",\n",
       " 'haven',\n",
       " \"haven't\",\n",
       " 'isn',\n",
       " \"isn't\",\n",
       " 'ma',\n",
       " 'mightn',\n",
       " \"mightn't\",\n",
       " 'mustn',\n",
       " \"mustn't\",\n",
       " 'needn',\n",
       " \"needn't\",\n",
       " 'shan',\n",
       " \"shan't\",\n",
       " 'shouldn',\n",
       " \"shouldn't\",\n",
       " 'wasn',\n",
       " \"wasn't\",\n",
       " 'weren',\n",
       " \"weren't\",\n",
       " 'won',\n",
       " \"won't\",\n",
       " 'wouldn',\n",
       " \"wouldn't\"]"
      ]
     },
     "execution_count": 24,
     "metadata": {},
     "output_type": "execute_result"
    }
   ],
   "source": [
    "#Tejas Jambhale\n",
    "from nltk.corpus import stopwords\n",
    "stopwords.words('english')"
   ]
  },
  {
   "cell_type": "code",
   "execution_count": 12,
   "metadata": {},
   "outputs": [
    {
     "name": "stdout",
     "output_type": "stream",
     "text": [
      "('belford', ['B', 'EH1', 'L', 'F', 'ER0', 'D'])\n",
      "('belfry', ['B', 'EH1', 'L', 'F', 'R', 'IY0'])\n",
      "('belgacom', ['B', 'EH1', 'L', 'G', 'AH0', 'K', 'AA0', 'M'])\n",
      "('belgacom', ['B', 'EH1', 'L', 'JH', 'AH0', 'K', 'AA0', 'M'])\n",
      "('belgard', ['B', 'EH0', 'L', 'G', 'AA1', 'R', 'D'])\n",
      "('belgarde', ['B', 'EH0', 'L', 'G', 'AA1', 'R', 'D', 'IY0'])\n",
      "('belge', ['B', 'EH1', 'L', 'JH', 'IY0'])\n",
      "('belger', ['B', 'EH1', 'L', 'G', 'ER0'])\n",
      "('belgian', ['B', 'EH1', 'L', 'JH', 'AH0', 'N'])\n",
      "('belgians', ['B', 'EH1', 'L', 'JH', 'AH0', 'N', 'Z'])\n",
      "('belgique', ['B', 'EH0', 'L', 'ZH', 'IY1', 'K'])\n",
      "(\"belgique's\", ['B', 'EH0', 'L', 'JH', 'IY1', 'K', 'S'])\n",
      "('belgium', ['B', 'EH1', 'L', 'JH', 'AH0', 'M'])\n",
      "(\"belgium's\", ['B', 'EH1', 'L', 'JH', 'AH0', 'M', 'Z'])\n",
      "('belgo', ['B', 'EH1', 'L', 'G', 'OW2'])\n",
      "('belgrade', ['B', 'EH1', 'L', 'G', 'R', 'EY0', 'D'])\n",
      "('belgrade', ['B', 'EH1', 'L', 'G', 'R', 'AA2', 'D'])\n",
      "(\"belgrade's\", ['B', 'EH1', 'L', 'G', 'R', 'EY0', 'D', 'Z'])\n",
      "(\"belgrade's\", ['B', 'EH1', 'L', 'G', 'R', 'AA2', 'D', 'Z'])\n",
      "('belgrave', ['B', 'EH1', 'L', 'G', 'R', 'EY2', 'V'])\n",
      "('beli', ['B', 'EH1', 'L', 'IY0'])\n",
      "('belich', ['B', 'EH1', 'L', 'IH0', 'K'])\n",
      "('belie', ['B', 'IH0', 'L', 'AY1'])\n",
      "('belied', ['B', 'IH0', 'L', 'AY1', 'D'])\n",
      "('belief', ['B', 'IH0', 'L', 'IY1', 'F'])\n"
     ]
    }
   ],
   "source": [
    "#CMU WordList\n",
    "import nltk\n",
    "entries = nltk.corpus.cmudict.entries()\n",
    "len(entries)\n",
    "for entry in entries[10000:10025]:\n",
    "    print(entry)"
   ]
  },
  {
   "cell_type": "code",
   "execution_count": 13,
   "metadata": {},
   "outputs": [
    {
     "name": "stdout",
     "output_type": "stream",
     "text": [
      "('bastards', ['B', 'AE1', 'S', 'T', 'ER0', 'D', 'Z'])\n",
      "('baste', ['B', 'EY1', 'S', 'T'])\n",
      "('basted', ['B', 'EY1', 'S', 'T', 'AH0', 'D'])\n",
      "('bastedo', ['B', 'AA0', 'S', 'T', 'EY1', 'D', 'OW0'])\n",
      "('basten', ['B', 'EY1', 'S', 'T', 'AH0', 'N'])\n",
      "('bastian', ['B', 'AE1', 'S', 'CH', 'IH0', 'N'])\n",
      "('bastien', ['B', 'AE1', 'S', 'T', 'AH0', 'N'])\n",
      "('bastille', ['B', 'AE1', 'S', 'T', 'IH0', 'L'])\n",
      "('bastille', ['B', 'AE2', 'S', 'T', 'IH1', 'L'])\n",
      "('bastin', ['B', 'AE1', 'S', 'T', 'IH0', 'N'])\n",
      "('basting', ['B', 'EY1', 'S', 'T', 'IH0', 'NG'])\n",
      "('bastion', ['B', 'AE1', 'S', 'CH', 'AH0', 'N'])\n",
      "('bastions', ['B', 'AE1', 'S', 'CH', 'AH0', 'N', 'Z'])\n",
      "('bastogne', ['B', 'AE2', 'S', 'T', 'OW1', 'N'])\n",
      "(\"bastogne's\", ['B', 'AE2', 'S', 'T', 'OW1', 'N', 'Z'])\n",
      "('baston', ['B', 'AE1', 'S', 'T', 'AH0', 'N'])\n",
      "('bastone', ['B', 'AA1', 'S', 'T', 'OW0', 'N'])\n",
      "('bastow', ['B', 'AE1', 'S', 'T', 'OW0'])\n",
      "('bastyr', ['B', 'EY1', 'S', 'T', 'IH0', 'R'])\n",
      "('basu', ['B', 'AA1', 'S', 'UW0'])\n",
      "('basulto', ['B', 'AH0', 'S', 'AH1', 'L', 'T', 'OW0'])\n",
      "('basurto', ['B', 'AA0', 'S', 'UH1', 'R', 'T', 'OW0'])\n",
      "('baswell', ['B', 'AE1', 'S', 'W', 'EH0', 'L'])\n",
      "('basye', ['B', 'AE1', 'S', 'AY0'])\n",
      "('bat', ['B', 'AE1', 'T'])\n",
      "('bataan', ['B', 'AH0', 'T', 'AA1', 'N'])\n",
      "('batan', ['B', 'EY1', 'T', 'AH0', 'N'])\n",
      "('batat', ['B', 'AH0', 'T', 'AA1', 'T'])\n",
      "('batavia', ['B', 'AH0', 'T', 'EY1', 'V', 'IY0', 'AH0'])\n",
      "('batavia', ['B', 'AH0', 'T', 'AE1', 'V', 'IY0', 'AH0'])\n",
      "('batboy', ['B', 'AE1', 'T', 'B', 'OY0'])\n",
      "('batboys', ['B', 'AE1', 'T', 'B', 'OY0', 'Z'])\n",
      "('batch', ['B', 'AE1', 'CH'])\n",
      "('batchelder', ['B', 'AE1', 'CH', 'EH2', 'L', 'D', 'ER0'])\n",
      "('batcheller', ['B', 'AE1', 'CH', 'AH0', 'L', 'ER0'])\n",
      "('batchelor', ['B', 'AE1', 'CH', 'AH0', 'L', 'ER0'])\n",
      "('batches', ['B', 'AE1', 'CH', 'AH0', 'Z'])\n",
      "('batches', ['B', 'AE1', 'CH', 'IH0', 'Z'])\n",
      "('batdorf', ['B', 'AE1', 'T', 'D', 'AO0', 'R', 'F'])\n",
      "('bate', ['B', 'EY1', 'T'])\n",
      "('bated', ['B', 'EY1', 'T', 'IH0', 'D'])\n",
      "('bateman', ['B', 'EY1', 'T', 'M', 'AH0', 'N'])\n",
      "('bates', ['B', 'EY1', 'T', 'S'])\n",
      "(\"bates'\", ['B', 'EY1', 'T', 'S'])\n",
      "('bateson', ['B', 'AE1', 'T', 'IH0', 'S', 'AH0', 'N'])\n",
      "('bateson', ['B', 'EY1', 'T', 'S', 'AH0', 'N'])\n",
      "('bateson', ['B', 'AE1', 'T', 'S', 'AH0', 'N'])\n",
      "('batesville', ['B', 'EY1', 'T', 'S', 'V', 'IH2', 'L'])\n",
      "('batey', ['B', 'EY1', 'T', 'IY0'])\n",
      "('bath', ['B', 'AE1', 'TH'])\n"
     ]
    }
   ],
   "source": [
    "#CMU WordList\n",
    "import nltk\n",
    "entries = nltk.corpus.cmudict.entries()\n",
    "len(entries)\n",
    "for entry in entries[9000:9050]:\n",
    "    print(entry)"
   ]
  },
  {
   "cell_type": "code",
   "execution_count": 14,
   "metadata": {},
   "outputs": [
    {
     "data": {
      "text/plain": [
       "[Synset('car.n.01')]"
      ]
     },
     "execution_count": 14,
     "metadata": {},
     "output_type": "execute_result"
    }
   ],
   "source": [
    "#WordNet\n",
    "from nltk.corpus import wordnet as wn\n",
    "wn.synsets('motorcar')#you get an id for subsets\n"
   ]
  },
  {
   "cell_type": "code",
   "execution_count": 15,
   "metadata": {},
   "outputs": [
    {
     "data": {
      "text/plain": [
       "['car', 'auto', 'automobile', 'machine', 'motorcar']"
      ]
     },
     "execution_count": 15,
     "metadata": {},
     "output_type": "execute_result"
    }
   ],
   "source": [
    "wn.synset('car.n.01').lemma_names()"
   ]
  },
  {
   "cell_type": "code",
   "execution_count": 16,
   "metadata": {
    "collapsed": true
   },
   "outputs": [],
   "source": [
    "for i in wn.synsets('car.n.01'):\n",
    "    print(i.lemma_names())"
   ]
  },
  {
   "cell_type": "code",
   "execution_count": 22,
   "metadata": {
    "collapsed": true
   },
   "outputs": [],
   "source": [
    "s = ['''The following is a list of some of the most commonly researched tasks in natural language processing. Some of these tasks have direct real-world applications, while others more commonly serve as subtasks that are used to aid in solving larger tasks.\n",
    "\n",
    "Though natural language processing tasks are closely intertwined, they are frequently subdivided into categories for convenience. A coarse division is given below.]''']"
   ]
  },
  {
   "cell_type": "code",
   "execution_count": 23,
   "metadata": {},
   "outputs": [
    {
     "name": "stdout",
     "output_type": "stream",
     "text": [
      "['The', 'following', 'is', 'a', 'list', 'of', 'some', 'of', 'the', 'most', 'commonly', 'researched', 'tasks', 'in', 'natural', 'language', 'processing', '.']\n",
      "[('The', 'DT'), ('following', 'NN'), ('is', 'VBZ'), ('a', 'DT'), ('list', 'NN'), ('of', 'IN'), ('some', 'DT'), ('of', 'IN'), ('the', 'DT'), ('most', 'RBS'), ('commonly', 'RB'), ('researched', 'JJ'), ('tasks', 'NNS'), ('in', 'IN'), ('natural', 'JJ'), ('language', 'NN'), ('processing', 'NN'), ('.', '.')]\n",
      "['Some', 'of', 'these', 'tasks', 'have', 'direct', 'real-world', 'applications', ',', 'while', 'others', 'more', 'commonly', 'serve', 'as', 'subtasks', 'that', 'are', 'used', 'to', 'aid', 'in', 'solving', 'larger', 'tasks', '.']\n",
      "[('Some', 'DT'), ('of', 'IN'), ('these', 'DT'), ('tasks', 'NNS'), ('have', 'VBP'), ('direct', 'JJ'), ('real-world', 'NN'), ('applications', 'NNS'), (',', ','), ('while', 'IN'), ('others', 'NNS'), ('more', 'RBR'), ('commonly', 'RB'), ('serve', 'VBP'), ('as', 'IN'), ('subtasks', 'NNS'), ('that', 'WDT'), ('are', 'VBP'), ('used', 'VBN'), ('to', 'TO'), ('aid', 'VB'), ('in', 'IN'), ('solving', 'VBG'), ('larger', 'JJR'), ('tasks', 'NNS'), ('.', '.')]\n",
      "['Though', 'natural', 'language', 'processing', 'tasks', 'are', 'closely', 'intertwined', ',', 'they', 'are', 'frequently', 'subdivided', 'into', 'categories', 'for', 'convenience', '.']\n",
      "[('Though', 'IN'), ('natural', 'JJ'), ('language', 'NN'), ('processing', 'NN'), ('tasks', 'NNS'), ('are', 'VBP'), ('closely', 'RB'), ('intertwined', 'VBN'), (',', ','), ('they', 'PRP'), ('are', 'VBP'), ('frequently', 'RB'), ('subdivided', 'VBN'), ('into', 'IN'), ('categories', 'NNS'), ('for', 'IN'), ('convenience', 'NN'), ('.', '.')]\n",
      "['A', 'coarse', 'division', 'is', 'given', 'below', '.', ']']\n",
      "[('A', 'DT'), ('coarse', 'JJ'), ('division', 'NN'), ('is', 'VBZ'), ('given', 'VBN'), ('below', 'IN'), ('.', '.'), (']', 'NN')]\n"
     ]
    }
   ],
   "source": [
    "for text in s:\n",
    "    sentences = nltk.sent_tokenize(text)\n",
    "    for sentence in sentences:\n",
    "        words = nltk.word_tokenize(sentence)\n",
    "        print(words)\n",
    "        tagged_words=nltk.pos_tag(words)\n",
    "        print(tagged_words)"
   ]
  },
  {
   "cell_type": "code",
   "execution_count": 19,
   "metadata": {},
   "outputs": [
    {
     "name": "stdout",
     "output_type": "stream",
     "text": [
      "['The', 'food', 'was', 'Amazing', ':', 'D', '#', 'super']\n"
     ]
    }
   ],
   "source": [
    "from nltk.tokenize import TweetTokenizer\n",
    "text = 'The food was Amazing :D #super'\n",
    "twtkn = TweetTokenizer()\n",
    "twtkn.tokenize(text)\n",
    "p = nltk.word_tokenize(text)\n",
    "print(p)"
   ]
  },
  {
   "cell_type": "code",
   "execution_count": 21,
   "metadata": {
    "collapsed": true
   },
   "outputs": [],
   "source": [
    "#4. Brown Corpus\n",
    "from nltk.corpus import brown\n",
    "news_text = brown.words(categories='news')\n",
    "fdist = nltk.FreqDist(w.lower() for w in news_text)\n",
    "modals = ['']"
   ]
  }
 ],
 "metadata": {
  "kernelspec": {
   "display_name": "Python 3",
   "language": "python",
   "name": "python3"
  },
  "language_info": {
   "codemirror_mode": {
    "name": "ipython",
    "version": 3
   },
   "file_extension": ".py",
   "mimetype": "text/x-python",
   "name": "python",
   "nbconvert_exporter": "python",
   "pygments_lexer": "ipython3",
   "version": "3.6.1"
  }
 },
 "nbformat": 4,
 "nbformat_minor": 2
}
