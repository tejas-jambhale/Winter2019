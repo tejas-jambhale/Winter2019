{
 "cells": [
  {
   "cell_type": "markdown",
   "metadata": {},
   "source": [
    "# Tejas Jambhale Similarity between authors\n",
    "    \n",
    "  "
   ]
  },
  {
   "cell_type": "code",
   "execution_count": 3,
   "metadata": {
    "collapsed": true
   },
   "outputs": [],
   "source": [
    "\n",
    "text.update({'1':'''During the 1970s, many programmers began to write \"conceptual ontologies\", which structured real-world information into computer-understandable data. Examples are MARGIE (Schank, 1975), SAM (Cullingford, 1978), PAM (Wilensky, 1978), TaleSpin (Meehan, 1976), QUALM (Lehnert, 1977), Politics (Carbonell, 1979), and Plot Units (Lehnert 1981). During this time, many chatterbots were written including PARRY, Racter, and Jabberwacky.\n",
    "\n",
    "Up to the 1980s, most natural language processing systems were based on complex sets of hand-written rules. Starting in the late 1980s, however, there was a revolution in natural language processing with the introduction of machine learning algorithms for language processing. This was due to both the steady increase in computational power (see Moore's law) and the gradual lessening of the dominance of Chomskyan theories of linguistics (e.g. transformational grammar), whose theoretical underpinnings discouraged the sort of corpus linguistics that underlies the machine-learning approach to language processing.['''\n",
    "            })\n",
    "\n",
    "text.update({'2':'''Many of the notable early successes occurred in the field of machine translation, due especially to work at IBM Research, where successively more complicated statistical models were developed. These systems were able to take advantage of existing multilingual textual corpora that had been produced by the Parliament of Canada and the European Union as a result of laws calling for the translation of all governmental proceedings into all official languages of the corresponding systems of government. However, most other systems depended on corpora specifically developed for the tasks implemented by these systems, which was (and often continues to be) a major limitation in the success of these systems. As a result, a great deal of research has gone into methods of more effectively learning from limited amounts of data.\n",
    "\n",
    "Recent research has increasingly focused on unsupervised and semi-supervised learning algorithms. Such algorithms can learn from data that has not been hand-annotated with the desired answers or using a combination of annotated and non-annotated data. Generally, this task is much more difficult than supervised learning, and typically produces less accurate results for a given amount of input data. However, there is an enormous .'''\n",
    "            })\n",
    "\n",
    "\n",
    "text.update({'3':'''In the 2010s, representation learning and deep neural network-style machine learning methods became widespread in natural language processing, due in part to a flurry of results showing that such techniques[4][5] can achieve state-of-the-art results in many natural language tasks, for example in language modeling,[6] parsing,[7][8] and many others. Popular techniques include the use of word embeddings to capture semantic properties of words, and an increase in end-to-end learning of a higher-level task (e.g., question answering) instead of relying on a pipeline of separate intermediate tasks (e.g., part-of-speech tagging and dependency parsing). In some areas, this shift has entailed substantial changes in how NLP systems are designed, such that deep neural network-based approaches may be viewed as a new paradigm distinct from statistical natural language processing. For instance, the term neural machine translation (NMT) emphasizes the fact that deep learning-based approaches to machine translation directly learn sequence-to-sequence transformations, obviating the need for intermrried departure from the hotel and was busy assuring myself that I had duly collected all my traps when the train started. Up till then I had hardly noticed my companion, but I was now violently recalled to the fact of her existence. Jumping up from her seat, she let down the window and stuck her head out, withdrawing it a moment later with the brief and forcible ejaculation “Hell!”'''\n",
    "\n",
    "            })\n",
    "\n",
    "text.update({'4':'''Many different classes of machine-learning algorithms have been applied to natural-language-processing tasks. These algorithms take as input a large set of \"features\" that are generated from the input data. Some of the earliest-used algorithms, such as decision trees, produced systems of hard if-then rules similar to the systems of handwritten rules that were then common. Increasingly, however, research has focused on statistical models, which make soft, probabilistic decisions based on attaching real-valued weights to each input feature. Such models have the advantage that they can express the relative certainty of many different possible answers rather than only one, producing more reliable results when such a model is included as a component of a larger system.\n",
    "\n",
    "Systems based on machine-learning algorithms have many advantages over hand-produced rules:\n",
    "\n",
    "The learning procedures used during maon on his brow. He was evidently in a state of overmastering fear. And yet he did not strike her as the kind of man who would be afraid to meet death!\n",
    "'''\n",
    "            })\n",
    "\n",
    "text.update({'5':'''The following is a list of some of the most commonly researched tasks in natural language processing. Some of these tasks have direct real-world applications, while others more commonly serve as subtasks that are used to aid in solving larger tasks.\n",
    "\n",
    "Though natural language processing tasks are closely intertwined, they are frequently subdivided into categories for convenience. A coarse division is given below. at that favoured period, as at this. Mrs. Southcott had recently attained her five-and-twentieth blessed birthday, of whom a prophetic private in the Life Guards had heralded the sublime appearance by announcing that arrangements were made for the swallowing up of London and Westminster. Even the Cock-lane ghost had been laid only a round dozen of years, after rapping out its messages, as the spirits of this very year last past (supernaturally deficient in originality) rapped out theirs. Mere messages in the earthly order of events had lately come to the English Crown and People, from a congress of British subjects in America: which, strange to relate, have proved more important to the human race than any communications yet received through any of the chickens of the Cock-lane brood.\n",
    "'''})"
   ]
  },
  {
   "cell_type": "code",
   "execution_count": 10,
   "metadata": {},
   "outputs": [
    {
     "name": "stdout",
     "output_type": "stream",
     "text": [
      "            1           2           3           4           5\n",
      "1  100.000000   54.807398   70.543412   51.139325   61.343815\n",
      "2   54.807398  100.000000   50.938638   62.556246   50.915802\n",
      "3   70.543412   50.938638  100.000000   44.963908   55.253529\n",
      "4   51.139325   62.556246   44.963908  100.000000   50.020162\n",
      "5   61.343815   50.915802   55.253529   50.020162  100.000000\n"
     ]
    }
   ],
   "source": [
    "from nltk.corpus import stopwords\n",
    "from nltk.tokenize import word_tokenize\n",
    "import os\n",
    "import pandas as pd\n",
    "import numpy\n",
    "import scipy\n",
    "from nltk.stem.snowball import SnowballStemmer #good enough stemmer\n",
    "\n",
    "stop_words = set(stopwords.words('english'))\n",
    "\n",
    "filtered_words=[]\n",
    "\n",
    "doc_list = list(text.keys())\n",
    "\n",
    "# for iteration in range(2):\n",
    "vectorised_words = {}\n",
    "temp_filtered_words = []\n",
    "for i in doc_list:\n",
    "#           \n",
    "        f = text[i]\n",
    "        word_tokens = word_tokenize(f.lower())\n",
    "        stemmer = SnowballStemmer(\"english\") #stem the documents\n",
    "        for word in word_tokens:\n",
    "                if word not in stop_words:\n",
    "#                   \n",
    "#                       \n",
    "                    filtered_words.append(word)\n",
    "                    temp_filtered_words.append(word)\n",
    "        vectorised_words.update({i :temp_filtered_words})\n",
    "        temp_filtered_words = []\n",
    "\n",
    "temp = set(filtered_words)\n",
    "unique_filtered_words = list(temp)\n",
    "\n",
    "#now we create the dictionary containign the similarity score. we use n\n",
    "dict = {}\n",
    "dict.update({\"D\":doc_list})\n",
    "\n",
    "for i in unique_filtered_words:\n",
    "    dict.update({i:[]})\n",
    "\n",
    "\n",
    "dframe = pd.DataFrame\n",
    "\n",
    "for i in doc_list:\n",
    "    for j in unique_filtered_words:\n",
    "        dict[j].append(vectorised_words[i].count(j))\n",
    "\n",
    "\n",
    "dframe  = pd.DataFrame(dict)\n",
    "dframe.set_index('D',inplace = True)\n",
    "\n",
    "\n",
    "no_stemming_similarity_dict  = {}\n",
    "\n",
    "\n",
    "for i in doc_list:\n",
    "    no_stemming_similarity_dict.update({i : {}})\n",
    "\n",
    "for i in doc_list:\n",
    "    for j in doc_list:\n",
    "        no_stemming_similarity_dict[i].update({j : 100*(1-scipy.spatial.distance.cosine(dframe.loc[i].values,dframe.loc[j].values))})\n",
    "\n",
    "no_stemming_similarity_dframe = pd.DataFrame(no_stemming_similarity_dict)\n",
    "\n",
    "print(no_stemming_similarity_dframe)\n",
    "\n",
    "\n",
    "\n"
   ]
  },
  {
   "cell_type": "code",
   "execution_count": null,
   "metadata": {
    "collapsed": true
   },
   "outputs": [],
   "source": []
  }
 ],
 "metadata": {
  "kernelspec": {
   "display_name": "Python 3",
   "language": "python",
   "name": "python3"
  },
  "language_info": {
   "codemirror_mode": {
    "name": "ipython",
    "version": 3
   },
   "file_extension": ".py",
   "mimetype": "text/x-python",
   "name": "python",
   "nbconvert_exporter": "python",
   "pygments_lexer": "ipython3",
   "version": "3.6.1"
  }
 },
 "nbformat": 4,
 "nbformat_minor": 2
}
