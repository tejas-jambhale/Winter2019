{
 "cells": [
  {
   "cell_type": "code",
   "execution_count": 4,
   "metadata": {
    "collapsed": true
   },
   "outputs": [],
   "source": [
    "#Tejas Jambhale\n",
    "str=\"The quick brown fox jumps over the lazy dog. Obama and Putin met the previous week. At least 12 people were killed in the battle last week. I will go home and come back tomorrow.\""
   ]
  },
  {
   "cell_type": "code",
   "execution_count": 5,
   "metadata": {},
   "outputs": [],
   "source": [
    "from nltk.tokenize import word_tokenize\n",
    "from nltk.tag import pos_tag\n",
    "import nltk \n",
    "from nltk.corpus import stopwords \n",
    "from nltk.tokenize import word_tokenize, sent_tokenize \n",
    "stop_words = set(stopwords.words('english')) "
   ]
  },
  {
   "cell_type": "code",
   "execution_count": 6,
   "metadata": {},
   "outputs": [
    {
     "name": "stdout",
     "output_type": "stream",
     "text": [
      "[('The', 'DT'), ('following', 'JJ'), ('list', 'NN'), ('commonly', 'RB'), ('researched', 'VBD'), ('tasks', 'NNS'), ('natural', 'JJ'), ('language', 'NN'), ('processing', 'NN'), ('.', '.')]\n",
      "[('Some', 'DT'), ('tasks', 'NNS'), ('direct', 'JJ'), ('real-world', 'JJ'), ('applications', 'NNS'), (',', ','), ('others', 'NNS'), ('commonly', 'RB'), ('serve', 'VBP'), ('subtasks', 'NNS'), ('used', 'VBN'), ('aid', 'NN'), ('solving', 'VBG'), ('larger', 'JJR'), ('tasks', 'NNS'), ('.', '.')]\n",
      "[('Though', 'IN'), ('natural', 'JJ'), ('language', 'NN'), ('processing', 'NN'), ('tasks', 'NNS'), ('closely', 'RB'), ('intertwined', 'VBN'), (',', ','), ('frequently', 'RB'), ('subdivided', 'VBD'), ('categories', 'NNS'), ('convenience', 'NN'), ('.', '.')]\n",
      "[('A', 'DT'), ('coarse', 'JJ'), ('division', 'NN'), ('given', 'VBN'), ('.', '.')]\n"
     ]
    }
   ],
   "source": [
    "\n",
    "  \n",
    "txt = \"The following is a list of some of the most commonly researched tasks in natural language processing. Some of these tasks have direct real-world applications, while others more commonly serve as subtasks that are used to aid in solving larger tasks. Though natural language processing tasks are closely intertwined, they are frequently subdivided into categories for convenience. A coarse division is given below.\"\n",
    "  \n",
    "# sent_tokenize is one of instances of  \n",
    "# PunktSentenceTokenizer from the nltk.tokenize.punkt module \n",
    "  \n",
    "tokenized = sent_tokenize(txt) \n",
    "for i in tokenized: \n",
    "      \n",
    "    # Word tokenizers is used to find the words  \n",
    "    # and punctuation in a string \n",
    "    wordsList = nltk.word_tokenize(i) \n",
    "  \n",
    "    # removing stop words from wordList \n",
    "    wordsList = [w for w in wordsList if not w in stop_words]  \n",
    "  \n",
    "    #  Using a Tagger. Which is part-of-speech  \n",
    "    # tagger or POS-tagger.  \n",
    "    tagged = nltk.pos_tag(wordsList) \n",
    "  \n",
    "    print(tagged) "
   ]
  },
  {
   "cell_type": "code",
   "execution_count": 7,
   "metadata": {
    "collapsed": true
   },
   "outputs": [],
   "source": [
    "data=word_tokenize(str)"
   ]
  },
  {
   "cell_type": "code",
   "execution_count": 8,
   "metadata": {},
   "outputs": [
    {
     "data": {
      "text/plain": [
       "['The',\n",
       " 'quick',\n",
       " 'brown',\n",
       " 'fox',\n",
       " 'jumps',\n",
       " 'over',\n",
       " 'the',\n",
       " 'lazy',\n",
       " 'dog',\n",
       " '.',\n",
       " 'Obama',\n",
       " 'and',\n",
       " 'Putin',\n",
       " 'met',\n",
       " 'the',\n",
       " 'previous',\n",
       " 'week',\n",
       " '.',\n",
       " 'At',\n",
       " 'least',\n",
       " '12',\n",
       " 'people',\n",
       " 'were',\n",
       " 'killed',\n",
       " 'in',\n",
       " 'the',\n",
       " 'battle',\n",
       " 'last',\n",
       " 'week',\n",
       " '.',\n",
       " 'I',\n",
       " 'will',\n",
       " 'go',\n",
       " 'home',\n",
       " 'and',\n",
       " 'come',\n",
       " 'back',\n",
       " 'tomorrow',\n",
       " '.']"
      ]
     },
     "execution_count": 8,
     "metadata": {},
     "output_type": "execute_result"
    }
   ],
   "source": [
    "data"
   ]
  },
  {
   "cell_type": "code",
   "execution_count": 9,
   "metadata": {
    "collapsed": true
   },
   "outputs": [],
   "source": [
    "posTag= pos_tag(data)"
   ]
  },
  {
   "cell_type": "code",
   "execution_count": 10,
   "metadata": {},
   "outputs": [
    {
     "data": {
      "text/plain": [
       "[('The', 'DT'),\n",
       " ('quick', 'JJ'),\n",
       " ('brown', 'NN'),\n",
       " ('fox', 'NN'),\n",
       " ('jumps', 'VBZ'),\n",
       " ('over', 'IN'),\n",
       " ('the', 'DT'),\n",
       " ('lazy', 'JJ'),\n",
       " ('dog', 'NN'),\n",
       " ('.', '.'),\n",
       " ('Obama', 'NNP'),\n",
       " ('and', 'CC'),\n",
       " ('Putin', 'NNP'),\n",
       " ('met', 'VBD'),\n",
       " ('the', 'DT'),\n",
       " ('previous', 'JJ'),\n",
       " ('week', 'NN'),\n",
       " ('.', '.'),\n",
       " ('At', 'IN'),\n",
       " ('least', 'JJS'),\n",
       " ('12', 'CD'),\n",
       " ('people', 'NNS'),\n",
       " ('were', 'VBD'),\n",
       " ('killed', 'VBN'),\n",
       " ('in', 'IN'),\n",
       " ('the', 'DT'),\n",
       " ('battle', 'NN'),\n",
       " ('last', 'JJ'),\n",
       " ('week', 'NN'),\n",
       " ('.', '.'),\n",
       " ('I', 'PRP'),\n",
       " ('will', 'MD'),\n",
       " ('go', 'VB'),\n",
       " ('home', 'NN'),\n",
       " ('and', 'CC'),\n",
       " ('come', 'VB'),\n",
       " ('back', 'RB'),\n",
       " ('tomorrow', 'NN'),\n",
       " ('.', '.')]"
      ]
     },
     "execution_count": 10,
     "metadata": {},
     "output_type": "execute_result"
    }
   ],
   "source": [
    "posTag"
   ]
  },
  {
   "cell_type": "code",
   "execution_count": null,
   "metadata": {
    "collapsed": true
   },
   "outputs": [],
   "source": []
  }
 ],
 "metadata": {
  "kernelspec": {
   "display_name": "Python 3",
   "language": "python",
   "name": "python3"
  },
  "language_info": {
   "codemirror_mode": {
    "name": "ipython",
    "version": 3
   },
   "file_extension": ".py",
   "mimetype": "text/x-python",
   "name": "python",
   "nbconvert_exporter": "python",
   "pygments_lexer": "ipython3",
   "version": "3.6.1"
  }
 },
 "nbformat": 4,
 "nbformat_minor": 2
}
