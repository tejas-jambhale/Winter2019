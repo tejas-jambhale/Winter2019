{
 "cells": [
  {
   "cell_type": "code",
   "execution_count": 2,
   "metadata": {
    "collapsed": true
   },
   "outputs": [],
   "source": [
    "import spacy\n",
    "nlp = spacy.load(\"en\")"
   ]
  },
  {
   "cell_type": "code",
   "execution_count": 3,
   "metadata": {
    "collapsed": true
   },
   "outputs": [],
   "source": [
    "filename = \"reviews.txt\"\n",
    "document = unicode(open(filename).read().decode('utf8'))\n",
    "document = nlp(document)"
   ]
  },
  {
   "cell_type": "code",
   "execution_count": 58,
   "metadata": {},
   "outputs": [
    {
     "data": {
      "text/plain": [
       "['doc', 'ents', 'mem']"
      ]
     },
     "execution_count": 58,
     "metadata": {},
     "output_type": "execute_result"
    }
   ],
   "source": [
    "[x for x in dir(document) if \"_\"not in x][:3] ## Just few of the properties "
   ]
  },
  {
   "cell_type": "code",
   "execution_count": 59,
   "metadata": {},
   "outputs": [
    {
     "name": "stdout",
     "output_type": "stream",
     "text": [
      "Nice\n"
     ]
    }
   ],
   "source": [
    "# first token of the doc \n",
    "print document[0] \n",
    "\n",
    "# # last token of the doc \n",
    "print document[len(document)-5]\n"
   ]
  },
  {
   "cell_type": "code",
   "execution_count": 60,
   "metadata": {},
   "outputs": [
    {
     "data": {
      "text/plain": [
       "[Nice place Better than some reviews give it credit for.,\n",
       " Overall, the rooms were a bit small but nice.,\n",
       " Everything was clean, the view was wonderful and it is very well located (the Prudential Center makes shopping and eating easy and the T is nearby for jaunts out and about the city).]"
      ]
     },
     "execution_count": 60,
     "metadata": {},
     "output_type": "execute_result"
    }
   ],
   "source": [
    "# List of sentences of our doc\n",
    "list(document.sents)[:3]"
   ]
  },
  {
   "cell_type": "code",
   "execution_count": 61,
   "metadata": {},
   "outputs": [
    {
     "name": "stdout",
     "output_type": "stream",
     "text": [
      "{97: u'SYM', 98: u'VERB', 99: u'X', 101: u'SPACE', 82: u'ADJ', 83: u'ADP', 84: u'ADV', 87: u'CCONJ', 88: u'DET', 89: u'INTJ', 90: u'NOUN', 91: u'NUM', 92: u'PART', 93: u'PRON', 94: u'PROPN', 95: u'PUNCT'}\n",
      "(Nice, u'JJ') (place, u'NN') (Better, u'NNP') (than, u'IN') (some, u'DT') (reviews, u'NNS') (give, u'VBP') (it, u'PRP') (credit, u'NN') (for, u'IN') (., u'.')\n"
     ]
    }
   ],
   "source": [
    "# all tags\n",
    "all_tags = {w.pos: w.pos_ for w in document}\n",
    "print all_tags \n",
    "\n",
    "# all tags of first sentence of our document\n",
    "for word in list(document.sents)[0]: \n",
    "    print (word, word.tag_),"
   ]
  },
  {
   "cell_type": "code",
   "execution_count": 29,
   "metadata": {},
   "outputs": [
    {
     "data": {
      "text/plain": [
       "[(u'hotel', 683),\n",
       " (u'room', 652),\n",
       " (u'great', 300),\n",
       " (u'sheraton', 285),\n",
       " (u'location', 271)]"
      ]
     },
     "execution_count": 29,
     "metadata": {},
     "output_type": "execute_result"
    }
   ],
   "source": [
    "# define some parameters \n",
    "noisy_pos_tags = [\"PROP\"]\n",
    "min_token_length = 2\n",
    "\n",
    "# Function to check if the token is a noise or not \n",
    "def isNoise(token):\n",
    "    is_noise = False\n",
    "    if token.pos_ in noisy_pos_tags:\n",
    "        is_noise = True \n",
    "    elif token.is_stop == True:\n",
    "        is_noise = True \n",
    "    elif len(token.string) <= min_token_length:\n",
    "        is_noise = True \n",
    "    return is_noise\n",
    "\n",
    "def cleanup(token, lower = True):\n",
    "    if lower:\n",
    "        token = token.lower()\n",
    "    return token.strip()\n",
    "\n",
    "# top unigrams used in the reviews\n",
    "from collections import Counter\t\n",
    "cleaned_list = [cleanup(word.string) for word in document if not isNoise(word)]\n",
    "Counter(cleaned_list).most_common(5)"
   ]
  },
  {
   "cell_type": "code",
   "execution_count": 35,
   "metadata": {},
   "outputs": [
    {
     "name": "stdout",
     "output_type": "stream",
     "text": [
      "ORDINAL [u'29th', u'Thoroughly', u'3yo', u'2nd', u'second', u'28th', u'1st', u'11th', u'fifth', u'North', u'3rd', u'27th', u'5th', u'14th', u'19th', u'25th', u'15th', u'first', u'50th', u'sixth', u'26th', u'4th', u'3pm', u'Firstly', u'last', u'24th', u'10-month', u'First', u'Secondly', u'15-minute', u'17th', u'22nd', u'third', u'6th', u'Second', u'18th', u'9th', u'10th', u'16th', u'20th', u'8th']\n",
      "LOC [u'', u'North Tower', u'Europe', u'Long Island Iced Tea', u'North', u'New England', u'WiFi', u'Fenway Park', u'New England Aquarium', u'Back Bay', u'the Charles River', u'the South Wing', u'Last', u'mid September', u'the South Tower', u'South Tower', u'the Back Bay Fens', u'the Back Bay', u'St Charles River', u'the Turning Point Lounge', u'Charles River', u'the South End', u'St Charles', u'hotels\\u9225?web']\n",
      "PRODUCT [u'Cheescake', u'Great location', u'Centre', u'225.00', u'Concierge', u'Motel 6', u'Suite', u'3.30pm', u'Radisson']\n",
      "LAW [u'Room 2916', u'e.g.', u'the Duck Tour - it', u'the Sheraton Boston', u'#1', u'the USS Constitution']\n",
      "WORK_OF_ART [u'Beautiful and the', u'The Sheraton is a', u'T. Negatives: A', u'Purple Rain', u'Weekend Trip Location: The', u'Much Money', u'first).Shopping -', u'Location Location Location', u'The Cheesecake Factory', u'RESERVED a Club Level', u'a Ritz Carlton', u'the Back Bay', u'Rooms/Good Location The Sheraton Boston', u'a Charles River', u'Hotel The Sheraton Boston', u'Keeps Me Coming Back', u'The Room', u'Love', u'Standard Room', u'Wrong Location Impersonal block', u'Club Room on the', u'Wonderful Location The']\n",
      "LANGUAGE [u'English']\n",
      "MONEY [u'46/nite', u'$175', u'130/night', u'$42/night to', u'$439.00 one', u'20', u'It was $', u'a $', u'less than $20-$25', u'over $200/night', u'$20-$30 dollars', u'$41', u'$1.25', u'2.10', u'36/night', u'37.00', u'120', u'39/day', u'about $50', u'$10', u'airport (', u'20/hr).I', u'around $150', u'1200+ rooms', u'50', u'53', u'$270', u'199', u'about $135', u'39/night', u'$150', u'110', u'about $40', u'80', u'73 million dollar', u'just $100--no', u'the $', u'309', u'cost $$', u'equal $300', u'380', u'189/night', u'$149', u'100', u'less than $250 - even', u'39', u'only $90', u'about $175/nite', u'30', u'35', u'55.53', u'$4 dollars', u'$60/stay', u'My #', u'9.95', u'over $200', u'very $$', u'9.99', u'a few points', u'289', u'over $200.00', u'$300', u'180', u'2', u'an extra $', u'185', u'about $300', u'less than $5', u'$309', u'\\u9225?Parking was $', u'$200+', u'41./day', u'159-', u'9.00', u'6', u'10 dollars', u'30 dollars', u'.50', u'99', u'THE BACK', u'229', u'about paying', u'more than $80 bucks', u'11', u'10', u'12', u'15', u'16', u'$USD', u'$20.Better options', u'$18', u'25 dollar', u'$36', u'around $250-$300', u'10/day', u'13.00', u'85/night', u'just under $30', u'more than $150', u'$30', u'4.50', u'259', u'40/night', u'$20', u'around $320/night', u'$50 - that', u'$24', u'40', u'41', u'200+/night', u'5', u'9', u'2506', u'2038', u'200', u'about $30-35', u'millions of dollars', u'$109', u'about $340', u'1.25)without', u'149', u'$250', u'25.00', u'40.00', u'$319/night', u'25.00.On', u'13.69', u'$16.95', u'$129', u'$39/night', u'350', u'$900+']\n",
      "PERCENT [u'100%', u'about 20mins,', u'100% full', u'50% off', u'9pm)', u'15-25 mins', u'20% tip']\n",
      "PERSON [u'Great Stay', u'July 26th - 27th).For', u'Self', u'Newbury Street', u'Starwood Preffered Guest Member', u'Pets', u'BEST', u'NS King', u'Boylston', u'Dunkin', u'Buffet', u'Great Booked', u'Robert', u'Boston Duck Tours', u'Esspecially', u'Prudential Centre', u'Great Bliss', u'Comm Ave', u'Amercian', u'Sweet Sleeper - so', u'I\\u9225\\u6a9de', u'Mezza Mezza', u'Will on', u\"Large Shaw's\", u'Shraton', u'Charles River', u'Pantene', u'Pru', u'Bright', u'Hotwire', u'Polo', u'Great Location', u'Closest T', u'Yawn Rooms', u'Hang on', u'Maggianos', u'Curtains', u'Mike', u'Reuben Pannini', u'Great Potential', u'Sel De', u'Super', u'Ruth Chris).Staff', u'Noisy', u'Comfortable Beds', u'Duck Tours', u'Downsides', u'Check in/out', u'Workspace', u'Beautiful Tree', u'Newbury St. - tons', u'Starwood', u'Taylor', u'Worthwhile My', u'Great Beds', u'Worth It', u'Haru', u'Staff', u'Ralph Lauren', u'Shaw', u'Heath St.', u'Green Line', u'Stayed', u'Hynes Conv', u'Boyston St.', u'Galleria', u'North', u'Rude', u'Hynes Subway', u'Yahoo', u'Hynes', u'Roach', u'Starbucks', u'Hines', u'Beds', u'Chris Steak House', u'Fenway', u'Soda', u\"Vinnie T's\", u'Charles R.', u'T. We', u'Bathrooms', u'North Tower', u'P.F Changs', u'Pleasant Experience', u'Letdown', u'Duck', u\"Howard Johnson's\", u'Conference', u'Bathroom', u'Abe', u'Lo', u'Jerry', u'Valet', u'Maid', u\"Ma'am\", u'Walkable', u\"Jasper White's\", u'Lord', u'Linda', u'Prudential Centre/Copley', u'Valentine', u'Brassiere Jo', u'Front Desk', u'Boston Commons', u'visitAvoid Starbuck', u'Club', u'John Wayne', u'Fenway Park', u'Louis', u'Louis Vitton', u'Lobby', u'Roach Alert', u'Fab Room', u'Ctr', u'Boston Common', u'Sophie', u'Gardens', u'View', u'Thanksgivig', u'Pru Skywalk', u'Your Wallet', u\"Brassiere Jo's\", u'Email!It', u'Charles', u'Thur', u'Logan', u'Minuses', u'Newbury St', u'Hotwire)', u'Louies', u'Priceline', u'Marathon']\n",
      "NORP [u'Starbucks', u'Irish', u'OK', u'Intercontinental', u'Italian', u'Dunkin', u'it!Still', u'French', u'Brit', u'A/C', u'Hispanic', u'American', u'Americans', u'stayThese', u'Fenway', u'Brazilian', u'Sweetsleeper', u'Yummy', u'italian', u'Priceline', u'European']\n",
      "CARDINAL [u'', u'45', u'about 2', u'four', u'towels/soap', u'this one', u'as many', u\"5'1\", u'24', u'159.00', u'4-star', u'20', u'21', u'22', u'only 1,000', u'about ten', u'at least 20', u'6.30', u'2665', u'4', u'400', u'8', u'522', u'965', u'Three', u'3/3', u'five', u'half', u'more than ten', u'one', u'1701', u'2.30am', u'more than 20', u'Only one', u'180', u'24hrs', u'than one', u'2:00am', u'about 400', u'only one', u'3.5', u'80', u'just a few', u'more than one', u'almost 2', u'only half', u'only 1', u'3', u'only 3', u'7', u'170', u'5000', u'25', u'Nine', u'4-star one', u'about a fifth', u'100', u'about 45', u'139', u'32', u'3-star', u'35', u'8yrs', u'1002', u'millions', u'Two', u'three', u'60', u'outstanding:1', u'9.99', u'541', u'two', u'1500', u'2', u'6', u'78', u'500', u'1/3', u'639', u'90', u'93', u'10.15', u'11', u'10', u'12', u'15', u'our son', u'zero', u'nine', u\"4'11\", u'150', u'3 - 10', u'10min', u'159', u'Not one', u'1200', u'10,000', u'about 10', u'8.30', u'more than kind', u'46', u'six', u'1', u'9AM', u'5', u'9', u'about 1000', u'200', u'roughly 150-160', u'Only two', u'more than two', u'1800hotels.ie', u'4-night', u'One', u'1,000', u'7/28- 8/2', u'almost 170', u'groups/students and 2']\n",
      "GPE [u'CheckIn', u'Checked', u'the Marathon Expo', u'North End-', u'the Au Bon Pan', u'Newbury Street', u'Boston Sheraton', u'Yummy', u'Sherton', u'Boylston', u'Platinum SPG', u'North Tower - 20th', u'Starbucks', u'Prudential', u'Lexington', u'Cape', u'England', u'Great city', u'Platinum Starwood', u'Boston Commons,', u'Boyleston', u'Concierge', u'London', u'Hotwire', u'Maparium', u'Comfort', u'the United States', u'Massachusetts', u'L.A.', u'Back Bay', u'Junior', u'Noisy', u'Marche', u'Freedom', u'Spent', u'Uk', u'Buffalo', u'Yankees', u'Cambridge', u'MA', u'Boston', u'Queen', u'UP', u'US', u'Las Vegas', u'Huntington', u'Sak\\u9225\\u6a9a', u'Maine', u'Sweet Sleeper', u'Lenox', u'Scotland', u'Stayed', u'Their', u'Ireland', u'cambridge)The', u'Newbury', u'Febreeze', u'Expedia', u\"I've\", u'Mikes Pastries', u'Hotel', u'Kiosk', u'California', u'Hong Kong', u'Hamton', u'Boston Globe', u'Westin', u'Roxbury', u'CD', u'Fenway', u'Wrentham Village -', u\"Vinnie T's\", u'Concord', u'Britain', u'Upscale', u'Bostix', u'Nevada', u'Starwood Preferred', u'a Beautiful City', u'USA', u'Chicago', u'Boyleston St.', u'Boston!The bedroom', u'Virgin', u'Symphony', u'Newbury St.', u'Ok', u'Saks', u'Pizza', u'Boston Commons', u'T.P', u'USA.A', u'Newberry', u'Fenway Park', u'Boston Big', u'Maria', u'AC', u'Charels', u'The city of', u'Skywalk', u'Boston Harbor', u'Clean', u'South', u'Expeirence', u'Sheraton', u'Logan', u'Boylston St.', u'Portland', u'Priceline']\n",
      "TIME [u'3 hours', u'150.00 per night', u'the wee hours of the morning', u'midnight', u'the first night', u'4:00 AM', u'within 12 hours', u'three night', u'7:00 a.m.', u'8 minutes', u'one morning for convenience', u'about 45 minutes', u'1st morning', u'7 hours', u'about 5 nights', u'evening', u'2 p.m.', u'this 2 night stay (9/6 to 9/8) through my sister who works', u'4:00 a.m. our time', u'5 minutes', u'took two hours', u'the first morning', u'morning', u'about 5 minutes', u'4 minute', u'night', u'few hours', u'4:15 AM) and that we', u'five nights', u'a half hour', u'about 25 minutes', u'NOT 2nd morning', u'7 minute', u'6:00 AM we were reawakened to the banging of the pipes.', u'all hours', u'9 hours', u'7:00 AM', u'a few hours', u'1/2 hour', u'the minute we stepped off the elevator', u'3 nights', u'\\u9646 hour', u'T. Each evening', u'another two hours', u'5 walking minutes', u'30 minutes of our check-in (The port-a-crib was delivered  set-up about 5 minutes after we entered the room)', u'8pm and the guy', u'The 1st night', u'$35/24 hours', u'the evening', u'7 nights', u'4 more hours', u'hours', u'about two hours', u'10 minute', u'almost 10 minutes', u'7 night', u'6am', u'The second', u'1:30', u'4:30 in the morning', u'about an hour', u'afternoon', u'The night manager', u'Two nights for a convention at the Hynes Convention Center.', u'the next morning', u'the night', u'early Friday', u'24 hour', u'two hour wait', u'nearest 24 hour', u'179CDN$/per night', u'each morning', u'midday', u'an hour', u'a hour', u'peak a.m. hours', u'24 hours', u'6 night', u'3 nights at the beggining of the month', u'one night', u'12:30 clamoring for food', u'hour', u'15 minute', u'within minutes', u'8:30', u'minutes', u'5 am', u'forty minutes', u')Three hours', u'over an hour', u'80 nights', u'that 10 minutes', u'a few hours early', u'early evening', u'1:30 am)', u'10 minutes with the front desk', u'approximately two hours', u'about 20 minutes', u'4 nights', u'30 minutes', u'2:45 a.m.', u'Later in the afternoon', u'45 seconds', u'5 minute', u'a few minutes', u'a good morning', u'15 minutes', u'8 a.m.', u'1 night', u'over 30 minutes', u'9 nights', u'one morning', u'One Night', u'5 nights', u'like 15 minutes', u'a second night', u'every night', u'one night on 9/18.', u'overnight', u'about 10 minutes', u'the night we arrived and it felt very festive', u'late at night', u'10 nights', u'several hours', u'noon']\n",
      "DATE [u'the 28th floor', u'4-5 star hotel', u'summer', u'Sunday', u'between 6am and 6:20am', u'the last 5 weeks', u'the 28th floor)The', u'two weekend nights', u'late winter', u'your day', u'june 2003', u'the next day', u'Friday', u'the 24th floor', u'a few days', u'our 7 month', u'the last 5 years', u'7', u'July 15 -17', u'10', u'the summer', u'Thanksgiving', u'a day', u'1.30', u'every year', u'The day', u'each day', u'Dec 2001', u'December 2005', u'the 28th floor-', u'3-day', u'the 26th', u'the 23rd floor', u'1822', u'all weekend', u'mid June 2006', u'2 hours', u'the end of September', u'the weekend prior to', u'a winter weekend', u'a couple of days', u'the end of the club room', u'about 2 weeks ago', u'5 day', u'the Christmas season', u'21 year old', u'every day', u'the same day', u'Boston This year', u'10-day', u'the 19th floor', u'last year', u'next year', u'June 03', u'July 3rd to 13th', u'at least a day', u'about 10 years old', u'late due', u'the past 2 years', u'18 month', u'from 4 days', u'the 21st floor of', u'ways', u'2 days of only', u'6 years', u'July 2005', u'late July 2003', u'the 24th floor and', u'Friday night', u'the first day', u'July', u'more than the one night', u'Sept. 6-7', u'11 year old', u'four days', u'the final day', u'last week', u'January', u'the 18th floor', u'two months', u'November 21-25', u'the 2nd flr lobby', u'10 months', u'the late 70s', u'nine year old', u'70s', u'15 year old', u'August', u'Toilet', u'the 25th floor', u'those days', u'October 5 nights', u'June 13-17', u'September', u'December', u'our weekend', u'annual', u'a weekend trip', u'a weekend of baseball', u'the past two years', u'PS - breakfast', u'this year', u'July 5, 2006', u'the weekend', u'Last year', u'over a year', u'16h - 19th', u'a long days', u'June 2007', u'June 2006', u'a few months ago', u'the end of the day', u'a New Years celebration', u'One year later', u'last weekend', u'ten consecutive days', u'a few years back', u'the year 2008', u'2 days', u'years - looked', u'October 1997', u'6 months', u'2 nights', u'5 days', u'the past few years', u'Oct 2008', u'2 day', u'Monday', u'monthly', u'June', u'2 but', u'the 25th floor of the non-renovated tower', u'the past 5 years', u'Next - once', u'one day', u'November', u'today', u'2001', u'this year - first', u'about 25-30 minutes', u'many years', u'season', u'the middle of', u'early and also', u'the winter', u'the last 12 years', u'the 25th floor with a fantastic city view', u'the meantime', u'1990', u'4 days', u'Dec 1999', u'the coming week', u'later that day', u'early (11', u'10 days', u'two week', u'July 3', u'Patriots Day weekend', u'7 months', u'the end of our holiday', u'months', u'a week', u'almost 2 days', u'early December', u'Thursday', u'December 13', u'winter months', u'the week', u'2459', u'the 29th floor', u'our four year old', u'Christmas', u'the end', u'1965', u'the Days Inn', u'two year old', u'1', u'Feb 18-21', u'15-20 min walk to', u'up to', u'the winter of 2009.Location', u'again next year', u'80s', u'2006', u'the 27th floor', u'the end of', u'more than 10-15 seconds', u'a couple of bucks', u'Feb 2007', u'February', u'2004', u'60s', u'Fenway - just', u'yesterday', u'a year', u'August 2007', u'April', u'the 16th sept to the 21st sept.hotel', u'a few hours', u'5-day', u'weekend', u'than a month ago', u'3 days', u'Aug. 23-25', u'two nights', u'10th March 2005', u'the winter - you', u'our 6 month', u'daily', u'Easter weekend', u'the 2nd day', u'a weekend', u'the day', u'2007', u'seen better days', u'a week later', u'Macworld 2004', u'the end of July 2006', u'Saturday', u'the last few years']\n",
      "FAC [u'', u'Au Bon Pain', u'Fenway!', u'the Novotel Hong Kong', u'Newbury Street', u'Better', u'the Ramada Hong Kong', u'Hynes Convention Center', u'the Fitz Inn', u'the Starwood Preferred Guest', u'the Duck Tour', u'Copley Place Mall', u'the Sheraton Boston', u'the Green E train', u'the Hynes Center', u'The Club-lounge', u'Fenway Park', u'Copely Square Mall', u'the Prudential Building', u'Back Bay', u'the Park Plaza', u'Freedom Trail', u'Back Bay Station', u'the North Tower', u'the Cheesecake Factory', u'Boylston Street', u'the Westin Copley', u'the Souith Tower Room 1160', u'T-station', u'Convention Center', u'Copley Square', u'the Apropos Room We', u'the South Tower', u'Fenway', u'the Sheratom', u'the Copley Mall', u'Toilet', u'Copley Place', u'Park Street', u'the Pru Center', u'Beacon Street', u'Copley Place Mall/Prudential Center', u'a South Tower', u'Prudential Center', u'the Prudential Center', u'the Prudential Mall', u'The Club-Level hallway', u'45mins', u'Copley Plaza', u'Huntington Avenue']\n",
      "QUANTITY [u'about one mile', u'3 miles', u'a ton', u'only a 3', u'three feet', u'13 lbs', u'good 30 feet', u'10 feet', u'11pm', u'about 100 feet', u'the airline miles', u'about 14 feet', u'100 feet', u'27 inch', u'hotel 20 miles', u'1 mile', u'two feet', u'4-stars', u'2pm', u'180 degree']\n",
      "EVENT [u'the Body Shopy', u'the Olympic Trials', u'the Hynes Convention centre', u'DIRTY Room / RUDE Staff My', u'New Year']\n",
      "ORG [u'', u'Great Location', u'WiFi', u'Neiman\\u9225\\u6a9a', u'BB', u'Shertaon Hotel Chain', u'Convenient', u'the Sheraton Sleeper Bed', u'HBO', u'Legal Seafoods', u'the Prudential Center Mall', u'the Atlantis Fitness Club', u'the Sheraton Boston!This', u'Pour House', u'THEIR', u'Great Hotel', u'Travelocity', u'Crappy', u'The South Wing', u'The Sheraton Copley', u'Ritz', u'Sheraton Boston Hotel', u'the Club Floor', u'Jury', u'Food Store', u'the Boston/', u'the Beautiful Prudential Center', u'MANY', u'The Good - Good', u'the Marriott Copley Place', u'TINY', u'The Atlantis Fitness', u'Copley Place/Back Bay', u'the Shopping Mall', u'MUCH', u'Starbucks', u'the Christain Science Plaza', u'Front', u'the Boston Metro \\u9225\\u697e\\u9225?is', u'The Back Bay', u'SPG', u'the Copley Mall', u'Boston Sheraton Stayed', u'Summer Shack', u'Prudential', u'Prudential Centre', u'the Hynes Convention Centre', u'Trailfinders', u'The Fenway Park Tour', u'Faneuil Hall', u'Legal Seafood', u'I\\u9225\\u6a9de', u'the Boston Marathon', u'Duck Tour', u'Virgin Holidays', u'Quick', u'Memorial Day', u'SPG Points', u'Mini-Suite', u'the Sheraton July', u'Continental', u'LAN', u'Wharf', u'Small Desks- Mine', u'Copley Place', u'the Front of House', u'USE Priceline', u'the Prudential', u'Copley', u'Concierge', u'the Prudential Center', u'the Democratic Convention', u'Hotwire', u'Faneiul Hall', u'St. Francis Chapel', u'Breakfast', u'Gemeric Convention Hotel', u'Good Business Hotel', u'the Prudential Centre', u'The Sheraton', u'the Marriott Copley', u'Needs', u'RATS', u'Pets', u'the Exersise Room', u'the Boston Commons', u'PF Changs', u'the Hynes Convention', u'SPG Gold', u'Prudential Mall', u'Stayed', u'Bean Town', u'the Club lounge', u'Hynes Convention Center', u'NYC', u'Quincy Marketplace', u'COLD', u'HATE', u'the Prudential Shopping Centre', u'Speakman', u'MFA', u'Starwood Preferred Guest', u'Better Options', u'the North Wing', u'PRICELINE', u'Guest User Friendly', u'VIP', u'Better Hotels', u'MIT', u'VERY', u'South Tower', u'Lamps', u'Newbury Streets', u'Pepsi', u'Back Bay', u'the North Tower', u\"the 'Sweet Sleeper Bed\", u'the Boston Sheraton', u'the Cheesecake Factory', u'fridge/micro', u'the Marriot Hotel', u'Good Hotel', u'WOW', u'Berklee', u'the Club Level Express Elevator -', u'Au Bon Pain', u'the North Tower Elevators', u'City', u'ThanksgivingGreat', u'Mall', u'Atlantic Fish Co.', u'Pretty Good Location', u'Generic Conventional Monster', u'the Science Museum', u'HOTWIRE', u'The Atlantic Fish Co.', u'Starwood', u'American Hotels', u'BTW', u'Great Service', u'Harvard', u'This Sheraton Hotel', u'Great Visit Husband', u'Boston Being', u'Club Floor Suite \\r\\nMixed Reviews', u'the Prudential Centre Mall  Copley Square Mall', u'Armani', u'the Fairmont Copley Plaza', u'the Copley Plaza', u'Great Location Spent', u\"Sheraton Promise'\", u'the Prudential Mall', u'Club-Level', u'the Club Lounge', u'the Prudential Center and Copley Mall', u'Sheraton Sleeper Bed', u'the Christian Scientist', u'Kiosk\\u9225\\u6a9a. They\\u9225\\u6a99e', u'the Rodeo Dr of', u'Tiffany', u'Best', u'Trolley', u'the Sheraton Boston WOW', u'Legal Sea Food', u'American Airlines', u'The North Wing', u'SHERATON', u'There', u'GPB', u'Decor', u'Whats Good', u'Yahoo', u'the Finish', u'the Prudential Center (Mall', u'the Duck Boat', u'Club Floor', u'Holiday Inn', u'the Boston Public Garden', u'SMALL', u'Amtrak Train', u'Fanuel Hall', u'Newbury', u'The Club breakfast', u'Sheraton Back Bay', u'AARP', u'Expedia', u'North', u'the Charlesmark Hotel', u\"the New York Yank's\", u'Centre', u'HInes Center', u'Great Boston Hotel', u'Hotel', u'NE', u'Fair Service', u'Waste of Money Based', u'The South Tower', u'DEFINITELY', u'Executive Suites', u'Great City Break', u'the Starwood Preferred Guests', u'the Prudential Building', u'the Club Room', u'NBA', u'the Hynes Convention Center', u'Great Club Floor Room', u'The Sheraton staff', u'the Prudential Shopping', u'Excellent Boston Hotel', u'Westin', u'Center', u'HVAC', u'CL', u'Bean Town Trolley', u'The Club Level', u'TLC', u'Key Club International Convention', u'Gucci', u'the New England', u'Red Sox game).Hotel', u'Club Floor Lounge', u'Fenway', u'the Club Level', u'Red Sox', u'Marriott', u'Sheraton - King-', u'the Food Court', u'MOST', u'the Beantown Trolley', u'Sheraton Boston', u'Filines Department', u'Suburban', u'Streets', u'Taxis', u'Bath', u'Prudential Center', u'the Sheraton Boston', u'the Boston Common', u'Prudential T Stop', u'a Legal Seafoods', u'the Sweet Sleeper', u'Wonderful Hotel', u'Dreary Hotel', u'the Ritz Carlton', u'Berklee College of Music', u'The North tower', u'the Philly Sheraton', u'The Lobby Bar', u'AAA', u'USA', u'Hynes Auditorium Convention Center', u'Motel', u'NS Queen', u'Boston Duck Tours', u'The Lobster Ravioli', u\"n't\", u'The hotel', u'the Sheraton Boston Back Bay', u'Approx', u'DUCK', u'Newbury St.', u'A/C', u'the Sheraton Hotel', u\"the North Tower-didn't\", u'Friendly', u'Philadelphia Insurance Company', u'the Duck Tour', u'Sheraton Hotel', u'HUGE', u'the Mother Church', u'the Wrentham', u'Atlantic Fish Co', u'Functional Sheraton', u'Sheraton Rocks Stayed', u'Club', u'Cape Cod.this', u'NEVER', u\"Prudential Center's\", u'International Seafood Show', u'the Freedom Trail', u'Needs Some Improvements', u'ORBITZ', u'the Intercontiential Hotel', u'Freedom Trail', u'MBTA', u'Best Hotel', u'the Westin Location', u'Gold Preferred Guest', u'T.I', u'Commons', u'Backbay', u'the Caesar Salad', u'Great', u'the Duck Tours', u'Cheesecake Factory', u'Art Excursions Program', u'Sheraton/Boston', u'Trinity Church', u'Fine Arts Museum of Boston', u'Great Location Good Value', u'The Sheraton Boston', u'Boston Commons', u'the Sheraton Boston Hotel', u'any Sheraton Hotel', u'70', u'The Cheesecake Factory', u'Sheratons', u'Modern Decor', u'Sophia', u'the Sheraton', u'the Copley Place', u'the Inn Keeper', u'Great Hotel Stuffy', u'The Prudential Center', u'Sheraton', u'Trip Advisor', u'Negatives:\\u9225?In', u'Copley Place Shopping Center', u'the Christian Science', u'Logan', u'Hilton', u'Horrible Service Hotel Security', u'Gold SPG', u'PS Newbury Street', u'Quincy Market', u'Sox', u'Sprint', u'Colonade', u'Priceline', u'STARWOOD']\n"
     ]
    }
   ],
   "source": [
    "# Entity Detection\n",
    "labels = set([w.label_ for w in document.ents])\n",
    "for label in labels:\n",
    "    entities = [cleanup(e.string, lower=False) for e in document.ents if label==e.label_]\n",
    "    entities = list(set(entities))\n",
    "    print label, entities"
   ]
  },
  {
   "cell_type": "code",
   "execution_count": 37,
   "metadata": {},
   "outputs": [
    {
     "name": "stdout",
     "output_type": "stream",
     "text": [
      "A :  []\n",
      "cab :  [A, from]\n",
      "from :  [airport, to]\n",
      "the :  []\n",
      "airport :  [the]\n",
      "to :  [hotel]\n",
      "the :  []\n",
      "hotel :  [the]\n",
      "can :  []\n",
      "be :  [cab, can, cheaper, .]\n",
      "cheaper :  [than]\n",
      "than :  [shuttles]\n",
      "the :  []\n",
      "shuttles :  [the, depending]\n",
      "depending :  [time]\n",
      "what :  []\n",
      "time :  [what, of]\n",
      "of :  [day]\n",
      "the :  []\n",
      "day :  [the, go]\n",
      "you :  []\n",
      "go :  [you]\n",
      ". :  []\n"
     ]
    }
   ],
   "source": [
    "# extract all review sentences that contains the term - hotel\n",
    "hotel = [sent for sent in document.sents if 'hotel' in sent.string.lower()]\n",
    "\n",
    "# create dependency tree\n",
    "sentence = hotel[2]\n",
    "for word in sentence: \n",
    "    print (word, ': ', str(list(word.children)) "
   ]
  },
  {
   "cell_type": "code",
   "execution_count": 62,
   "metadata": {},
   "outputs": [
    {
     "name": "stdout",
     "output_type": "stream",
     "text": [
      "[(u'other', 20), (u'great', 10), (u'good', 7), (u'better', 6), (u'nice', 6), (u'different', 5), (u'many', 5), (u'best', 4), (u'my', 4), (u'wonderful', 3)]\n"
     ]
    }
   ],
   "source": [
    "# check all adjectives used with a word\n",
    "def pos_words (sentence, token, ptag):\n",
    "    sentences = [sent for sent in sentence.sents if token in sent.string]\n",
    "    pwrds = []\n",
    "    for sent in sentences: \n",
    "        for word in sent: \n",
    "            if token in word.string:\n",
    "                pwrds.extend([child.string.strip() for child in word.children if child.pos_ == ptag])\n",
    "    return Counter(pwrds).most_common(10)\n",
    "\n",
    "print pos_words(document, 'hotel', \"ADJ\")"
   ]
  },
  {
   "cell_type": "code",
   "execution_count": 50,
   "metadata": {},
   "outputs": [
    {
     "name": "stdout",
     "output_type": "stream",
     "text": [
      "I nsubj love\n",
      "data science dobj love\n",
      "analytics pobj on\n"
     ]
    }
   ],
   "source": [
    "# Generate Noun Phrases\n",
    "doc = nlp(u'I love data science on analytics vidhya')\n",
    "for np in doc.noun_chunks:\n",
    "    print np.text, np.root.dep_, np.root.head.text"
   ]
  },
  {
   "cell_type": "code",
   "execution_count": 63,
   "metadata": {},
   "outputs": [
    {
     "name": "stdout",
     "output_type": "stream",
     "text": [
      "top most similar words to apple:\n",
      "apples iphone fruit juice cherry lemon banana pie mac orange\n"
     ]
    }
   ],
   "source": [
    "# Word Vectors \n",
    "from spacy.en import English\n",
    "parser = English()\n",
    "\n",
    "from numpy import dot\n",
    "from numpy.linalg import norm\n",
    "\n",
    "# Generate word vector of the word - apple \n",
    "apple = parser.vocab[u'apple']\n",
    "\n",
    "# Cosine similarity function\n",
    "cosine = lambda v1, v2: dot(v1, v2) / (norm(v1) * norm(v2))\n",
    "\n",
    "others = list({w for w in parser.vocab if w.has_vector and w.orth_.islower() and w.lower_ != unicode(\"apple\")})\n",
    "\n",
    "# sort by similarity score\n",
    "others.sort(key=lambda w: cosine(w.vector, apple.vector))\n",
    "others.reverse()\n",
    "\n",
    "print \"top most similar words to apple:\"\n",
    "for word in others[:10]:   \n",
    "    print word.orth_,"
   ]
  }
 ],
 "metadata": {
  "kernelspec": {
   "display_name": "Python 3",
   "language": "python",
   "name": "python3"
  },
  "language_info": {
   "codemirror_mode": {
    "name": "ipython",
    "version": 3
   },
   "file_extension": ".py",
   "mimetype": "text/x-python",
   "name": "python",
   "nbconvert_exporter": "python",
   "pygments_lexer": "ipython3",
   "version": "3.6.1"
  }
 },
 "nbformat": 4,
 "nbformat_minor": 1
}
