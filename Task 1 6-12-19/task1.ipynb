{
 "cells": [
  {
   "cell_type": "code",
   "execution_count": 3,
   "metadata": {
    "collapsed": true
   },
   "outputs": [],
   "source": [
    "#single sentence\n",
    "s = \"Shakespeare gave the world best of theatrics\""
   ]
  },
  {
   "cell_type": "code",
   "execution_count": 4,
   "metadata": {},
   "outputs": [
    {
     "name": "stdout",
     "output_type": "stream",
     "text": [
      "Shakespeare gave the world best of theatrics\n"
     ]
    }
   ],
   "source": [
    "print(s)"
   ]
  },
  {
   "cell_type": "code",
   "execution_count": 11,
   "metadata": {
    "scrolled": true
   },
   "outputs": [
    {
     "name": "stdout",
     "output_type": "stream",
     "text": [
      "William Shakespeare (bapt. 26 April 1564 – 23 April 1616)[a] was an English poet, playwright, and actor, widely regarded as the greatest writer in the English language and the world's greatest dramatist.[2][3][4] He is often called England's national poet and the \"Bard of Avon\" (or simply \"the Bard\").[5][b] His extant works, including collaborations, consist of some 39 plays,[c] 154 sonnets, two long narrative poems, and a few other verses, some of uncertain authorship. His plays have been translated into every major living language and are performed more often than those of any other playwright.[7]\n"
     ]
    }
   ],
   "source": [
    "#Wikipedia 1st paragraph\n",
    "s = \"\"\"William Shakespeare (bapt. 26 April 1564 – 23 April 1616)[a] was an English poet, playwright, and actor, widely regarded as the greatest writer in the English language and the world's greatest dramatist.[2][3][4] He is often called England's national poet and the \"Bard of Avon\" (or simply \"the Bard\").[5][b] His extant works, including collaborations, consist of some 39 plays,[c] 154 sonnets, two long narrative poems, and a few other verses, some of uncertain authorship. His plays have been translated into every major living language and are performed more often than those of any other playwright.[7]\"\"\"\n",
    "print(s)"
   ]
  },
  {
   "cell_type": "code",
   "execution_count": 13,
   "metadata": {
    "collapsed": true
   },
   "outputs": [],
   "source": [
    "#Wikipedia 1st paragraph using single quotes\n",
    "s = '''William Shakespeare (bapt. 26 April 1564 – 23 April 1616)[a] was an English poet, playwright, and actor, widely regarded as the greatest writer in the English language and the world's greatest dramatist.[2][3][4] He is often called England's national poet and the \"Bard of Avon\" (or simply \"the Bard\").[5][b] His extant works, including collaborations, consist of some 39 plays,[c] 154 sonnets, two long narrative poems, and a few other verses, some of uncertain authorship. His plays have been translated into every major living language and are performed more often than those of any other playwright.[7]'''"
   ]
  },
  {
   "cell_type": "code",
   "execution_count": 12,
   "metadata": {},
   "outputs": [
    {
     "name": "stdout",
     "output_type": "stream",
     "text": [
      "विलियम शेक्सपियर (बपतिस्मा। 26 अप्रैल 1564 - 23 अप्रैल 1616) [a] एक अंग्रेजी कवि, नाटककार और अभिनेता थे, जिन्हें व्यापक रूप से अंग्रेजी भाषा का सबसे बड़ा लेखक और दुनिया का सबसे बड़ा नाटककार माना जाता था। [२] [३] [४] ] उन्हें अक्सर इंग्लैंड का राष्ट्रीय कवि और \"बार्ड ऑफ़ एवन\" (या बस \"बार्ड\") कहा जाता है। [५] [ख] उनके विलुप्त होने वाले कार्यों में सहयोग भी शामिल है, जिसमें ३ ९ नाटक, [ग] १५४ सोननेट, दो लंबे शामिल हैं कथात्मक कविताएँ, और कुछ अन्य छंद, कुछ अनिश्चित लेखक। उनके नाटकों को हर प्रमुख जीवित भाषा में अनुवादित किया गया है और किसी भी अन्य नाटककार की तुलना में अधिक बार प्रदर्शन किया जाता है।\n"
     ]
    }
   ],
   "source": [
    "#In Hindi\n",
    "s = '''विलियम शेक्सपियर (बपतिस्मा। 26 अप्रैल 1564 - 23 अप्रैल 1616) [a] एक अंग्रेजी कवि, नाटककार और अभिनेता थे, जिन्हें व्यापक रूप से अंग्रेजी भाषा का सबसे बड़ा लेखक और दुनिया का सबसे बड़ा नाटककार माना जाता था। [२] [३] [४] ] उन्हें अक्सर इंग्लैंड का राष्ट्रीय कवि और \"बार्ड ऑफ़ एवन\" (या बस \"बार्ड\") कहा जाता है। [५] [ख] उनके विलुप्त होने वाले कार्यों में सहयोग भी शामिल है, जिसमें ३ ९ नाटक, [ग] १५४ सोननेट, दो लंबे शामिल हैं कथात्मक कविताएँ, और कुछ अन्य छंद, कुछ अनिश्चित लेखक। उनके नाटकों को हर प्रमुख जीवित भाषा में अनुवादित किया गया है और किसी भी अन्य नाटककार की तुलना में अधिक बार प्रदर्शन किया जाता है।'''\n",
    "print(s)"
   ]
  },
  {
   "cell_type": "code",
   "execution_count": null,
   "metadata": {
    "collapsed": true
   },
   "outputs": [],
   "source": []
  }
 ],
 "metadata": {
  "kernelspec": {
   "display_name": "Python 3",
   "language": "python",
   "name": "python3"
  },
  "language_info": {
   "codemirror_mode": {
    "name": "ipython",
    "version": 3
   },
   "file_extension": ".py",
   "mimetype": "text/x-python",
   "name": "python",
   "nbconvert_exporter": "python",
   "pygments_lexer": "ipython3",
   "version": "3.6.1"
  }
 },
 "nbformat": 4,
 "nbformat_minor": 2
}
